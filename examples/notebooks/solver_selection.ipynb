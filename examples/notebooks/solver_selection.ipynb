{
 "cells": [
  {
   "cell_type": "markdown",
   "metadata": {
    "id": "expmkveO04pw"
   },
   "source": [
    "## Investigate Different PyBaMM Solvers\n",
    "\n",
    "In this notebook, we discuss the process of changing PyBaMM solvers and the corresponding performance trade-offs with each. For further reading on different solvers, see the PyBaMM solver documentation:\n",
    "\n",
    "[[1]: PyBaMM Solvers](https://docs.pybamm.org/en/stable/source/api/solvers/index.html#)\n",
    "\n",
    "### Setting up the Environment\n",
    "\n",
    "Before we begin, we need to ensure that we have all the necessary tools. We will install PyBOP from its development branch and upgrade some dependencies:"
   ]
  },
  {
   "cell_type": "code",
   "execution_count": null,
   "metadata": {
    "colab": {
     "base_uri": "https://localhost:8080/"
    },
    "id": "X87NUGPW04py",
    "outputId": "0d785b07-7cff-4aeb-e60a-4ff5a669afbf"
   },
   "outputs": [
    {
     "name": "stdout",
     "output_type": "stream",
     "text": [
      "Note: you may need to restart the kernel to use updated packages.\n",
      "Note: you may need to restart the kernel to use updated packages.\n"
     ]
    }
   ],
   "source": [
    "%pip install --upgrade pip ipywidgets -q\n",
    "%pip install pybop -q"
   ]
  },
  {
   "cell_type": "markdown",
   "metadata": {
    "id": "jAvD5fk104p0"
   },
   "source": [
    "### Importing Libraries\n",
    "\n",
    "With the environment set up, we can now import PyBOP alongside other libraries we will need:"
   ]
  },
  {
   "cell_type": "code",
   "execution_count": null,
   "metadata": {
    "id": "SQdt4brD04p1"
   },
   "outputs": [],
   "source": [
    "import time\n",
    "\n",
    "import numpy as np\n",
    "import pybamm\n",
    "\n",
    "import pybop"
   ]
  },
  {
   "cell_type": "markdown",
   "metadata": {},
   "source": [
    "Let's fix the random seed in order to generate consistent output during development, although this does not need to be done in practice."
   ]
  },
  {
   "cell_type": "code",
   "execution_count": null,
   "metadata": {},
   "outputs": [],
   "source": [
    "np.random.seed(8)"
   ]
  },
  {
   "cell_type": "markdown",
   "metadata": {
    "id": "5XU-dMtU04p2"
   },
   "source": [
    "### Generate Synthetic Data\n",
    "\n",
    "To demonstrate parameter estimation, we first need some data. We will generate synthetic data using the PyBOP forward model, which requires defining a parameter set and the model itself.\n",
    "\n",
    "#### Defining Parameters and Model\n",
    "\n",
    "We start by creating an example parameter set and then instantiate the single-particle model (SPM):"
   ]
  },
  {
   "cell_type": "code",
   "execution_count": null,
   "metadata": {},
   "outputs": [],
   "source": [
    "parameter_set = pybop.ParameterSet.pybamm(\"Chen2020\")\n",
    "model = pybop.lithium_ion.SPMe(parameter_set=parameter_set)"
   ]
  },
  {
   "cell_type": "code",
   "execution_count": null,
   "metadata": {},
   "outputs": [],
   "source": [
    "t_eval = np.arange(0, 900, 2)\n",
    "values = model.predict(t_eval=t_eval)"
   ]
  },
  {
   "cell_type": "markdown",
   "metadata": {},
   "source": [
    "### Adding Noise to Voltage Data\n",
    "\n",
    "To make the parameter estimation more realistic, we add Gaussian noise to the data."
   ]
  },
  {
   "cell_type": "code",
   "execution_count": null,
   "metadata": {},
   "outputs": [],
   "source": [
    "sigma = 0.001\n",
    "corrupt_values = values[\"Voltage [V]\"].data + np.random.normal(0, sigma, len(t_eval))"
   ]
  },
  {
   "cell_type": "markdown",
   "metadata": {
    "id": "X8-tubYY04p_"
   },
   "source": [
    "## Identify the Parameters\n",
    "We will now set up the parameter estimation process by defining the datasets for optimisation and selecting the model parameters we wish to estimate."
   ]
  },
  {
   "cell_type": "markdown",
   "metadata": {},
   "source": [
    "### Creating Optimisation Dataset\n",
    "\n",
    "The dataset for optimisation is composed of time, current, and the noisy voltage data:"
   ]
  },
  {
   "cell_type": "code",
   "execution_count": null,
   "metadata": {
    "id": "zuvGHWID04p_"
   },
   "outputs": [],
   "source": [
    "dataset = pybop.Dataset(\n",
    "    {\n",
    "        \"Time [s]\": t_eval,\n",
    "        \"Current function [A]\": values[\"Current [A]\"].data,\n",
    "        \"Voltage [V]\": corrupt_values,\n",
    "    }\n",
    ")"
   ]
  },
  {
   "cell_type": "markdown",
   "metadata": {
    "id": "ffS3CF_704qA"
   },
   "source": [
    "### Defining Parameters to Estimate\n",
    "\n",
    "We select the parameters for estimation and set up their prior distributions and bounds:"
   ]
  },
  {
   "cell_type": "code",
   "execution_count": null,
   "metadata": {
    "id": "WPCybXIJ04qA"
   },
   "outputs": [],
   "source": [
    "parameters = [\n",
    "    pybop.Parameter(\n",
    "        \"Negative electrode active material volume fraction\",\n",
    "        prior=pybop.Gaussian(0.6, 0.02),\n",
    "        bounds=[0.5, 0.8],\n",
    "    ),\n",
    "    pybop.Parameter(\n",
    "        \"Positive electrode active material volume fraction\",\n",
    "        prior=pybop.Gaussian(0.48, 0.02),\n",
    "        bounds=[0.4, 0.7],\n",
    "    ),\n",
    "]"
   ]
  },
  {
   "cell_type": "markdown",
   "metadata": {
    "id": "n4OHa-aF04qA"
   },
   "source": [
    "### Setting up the Optimisation Problem\n",
    "\n",
    "With the datasets and parameters defined, we can set up the optimisation problem, its cost function, and the optimiser."
   ]
  },
  {
   "cell_type": "code",
   "execution_count": null,
   "metadata": {},
   "outputs": [],
   "source": [
    "solvers = dict(\n",
    "    IDAKLU=pybamm.IDAKLUSolver(atol=1e-6, rtol=1e-6),\n",
    "    Casadi_safe=pybamm.CasadiSolver(atol=1e-6, rtol=1e-6, mode=\"safe\"),\n",
    "    Casadi_fast=pybamm.CasadiSolver(atol=1e-6, rtol=1e-6, mode=\"fast\"),\n",
    "    Casadi_fast_with_events=pybamm.CasadiSolver(\n",
    "        atol=1e-6, rtol=1e-6, mode=\"fast with events\"\n",
    "    ),\n",
    ")"
   ]
  },
  {
   "cell_type": "markdown",
   "metadata": {},
   "source": [
    "Let's setup a toy-problem to showcase the diferences. We run the forward model `n` times, for a variety of input values,"
   ]
  },
  {
   "cell_type": "code",
   "execution_count": null,
   "metadata": {},
   "outputs": [],
   "source": [
    "n = 25  # Number of solves\n",
    "inputs = [[x, y] for x, y in zip(np.linspace(0.45, 0.6, n), np.linspace(0.45, 0.6, n))]"
   ]
  },
  {
   "cell_type": "markdown",
   "metadata": {},
   "source": [
    "Next, let's call the non-gradient based cost evaluate for each of the solvers and time the correseponding outcomes,"
   ]
  },
  {
   "cell_type": "code",
   "execution_count": null,
   "metadata": {},
   "outputs": [
    {
     "name": "stdout",
     "output_type": "stream",
     "text": [
      "Cost Evaluate for IDA KLU solver: 3.354677200317383\n",
      "Cost Evaluate for CasADi solver with 'safe' mode: 2.0228309631347656\n",
      "Cost Evaluate for CasADi solver with 'fast' mode: 1.9543209075927734\n",
      "Cost Evaluate for CasADi solver with 'fast with events' mode: 2.0191171169281006\n"
     ]
    }
   ],
   "source": [
    "parameter_set = pybop.ParameterSet.pybamm(\"Chen2020\")\n",
    "for solver in solvers.values():\n",
    "    model = pybop.lithium_ion.SPMe(parameter_set=parameter_set, solver=solver)\n",
    "    problem = pybop.FittingProblem(model, parameters, dataset)\n",
    "    cost = pybop.SumSquaredError(problem)\n",
    "\n",
    "    # Timing\n",
    "    t1 = time.time()\n",
    "    for i in range(n):\n",
    "        cost.evaluate(inputs[i])\n",
    "    print(f\"Cost Evaluate for {solver.name}: {time.time()-t1}\")"
   ]
  },
  {
   "cell_type": "markdown",
   "metadata": {},
   "source": [
    "Great, so the Casadi performance appears to be XX times better! That is, atleast for the non-gradient solutions. Next, let's repeat the same toy problem, but for the gradient-based cost evaluation,"
   ]
  },
  {
   "cell_type": "code",
   "execution_count": null,
   "metadata": {},
   "outputs": [
    {
     "name": "stdout",
     "output_type": "stream",
     "text": [
      "Cost Evaluate for IDA KLU solver: 1.4089879989624023\n",
      "Cost Evaluate for CasADi solver with 'safe' mode: 3.617908000946045\n",
      "Cost Evaluate for CasADi solver with 'fast' mode: 3.5603108406066895\n",
      "Cost Evaluate for CasADi solver with 'fast with events' mode: 3.537614107131958\n"
     ]
    }
   ],
   "source": [
    "parameter_set = pybop.ParameterSet.pybamm(\"Chen2020\")\n",
    "for solver in solvers.values():\n",
    "    model = pybop.lithium_ion.SPMe(parameter_set=parameter_set, solver=solver)\n",
    "    problem = pybop.FittingProblem(model, parameters, dataset)\n",
    "    cost = pybop.SumSquaredError(problem)\n",
    "\n",
    "    # Timing\n",
    "    t1 = time.time()\n",
    "    for i in range(n):\n",
    "        cost.evaluateS1(inputs[i])\n",
    "    print(f\"Cost Evaluate for {solver.name}: {time.time()-t1}\")"
   ]
  },
  {
   "cell_type": "markdown",
   "metadata": {},
   "source": [
    "Now this is interesting, so we have performance variation between the Casadi solvers and the IDAKLU. Given this result, it appears to the Casadi solver is most benefical for non-gradient optimisers, while IDAKLU has a large improve for gradient-based optimisers."
   ]
  },
  {
   "cell_type": "markdown",
   "metadata": {},
   "source": [
    "- Gradient compared to non-gradient methods\n",
    "- No GPU methods in this notebook\n",
    "- Import data or use model.predict?"
   ]
  }
 ],
 "metadata": {
  "colab": {
   "provenance": []
  },
  "kernelspec": {
   "display_name": "Python 3 (ipykernel)",
   "language": "python",
   "name": "python3"
  },
  "language_info": {
   "codemirror_mode": {
    "name": "ipython",
    "version": 3
   },
   "file_extension": ".py",
   "mimetype": "text/x-python",
   "name": "python",
   "nbconvert_exporter": "python",
   "pygments_lexer": "ipython3",
   "version": "3.11.9"
  }
 },
 "nbformat": 4,
 "nbformat_minor": 4
}
