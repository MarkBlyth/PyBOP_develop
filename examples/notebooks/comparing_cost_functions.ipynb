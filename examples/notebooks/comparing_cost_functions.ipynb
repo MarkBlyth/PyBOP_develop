{
 "cells": [
  {
   "cell_type": "markdown",
   "metadata": {},
   "source": [
    "## Investigating different cost functions\n",
    "\n",
    "In this notebook, we take a look at the different fitting cost functions offered in PyBOP. Cost functions for fitting problems conventionally describe the distance between two points (the target and the prediction) which is to be minimised via PyBOP's optimisation algorithms. \n",
    "\n",
    "First, we install and import the required packages below."
   ]
  },
  {
   "cell_type": "code",
   "execution_count": null,
   "metadata": {},
   "outputs": [
    {
     "name": "stdout",
     "output_type": "stream",
     "text": [
      "/Users/engs2510/Documents/Git/PyBOP/.nox/notebooks-overwrite/bin/python3: No module named pip\r\n"
     ]
    },
    {
     "name": "stdout",
     "output_type": "stream",
     "text": [
      "Note: you may need to restart the kernel to use updated packages.\n"
     ]
    },
    {
     "name": "stdout",
     "output_type": "stream",
     "text": [
      "/Users/engs2510/Documents/Git/PyBOP/.nox/notebooks-overwrite/bin/python3: No module named pip\r\n"
     ]
    },
    {
     "name": "stdout",
     "output_type": "stream",
     "text": [
      "Note: you may need to restart the kernel to use updated packages.\n"
     ]
    }
   ],
   "source": [
    "%pip install --upgrade pip ipywidgets -q\n",
    "%pip install pybop -q\n",
    "\n",
    "import numpy as np\n",
    "\n",
    "import pybop\n",
    "\n",
    "go = pybop.PlotlyManager().go\n",
    "pybop.PlotlyManager().pio.renderers.default = \"notebook_connected\""
   ]
  },
  {
   "cell_type": "markdown",
   "metadata": {},
   "source": [
    "Let's fix the random seed in order to generate consistent output during development, although this does not need to be done in practice."
   ]
  },
  {
   "cell_type": "code",
   "execution_count": null,
   "metadata": {},
   "outputs": [],
   "source": [
    "np.random.seed(8)"
   ]
  },
  {
   "cell_type": "markdown",
   "metadata": {},
   "source": [
    "For this notebook, we need to construct parameters, a model and a problem class before we can compare differing cost functions. We start with two parameters, but this is an arbitrary selection and can be expanded given the model and data in question."
   ]
  },
  {
   "cell_type": "code",
   "execution_count": null,
   "metadata": {},
   "outputs": [],
   "source": [
    "parameters = pybop.Parameters(\n",
    "    pybop.Parameter(\n",
    "        \"Positive electrode thickness [m]\",\n",
    "        prior=pybop.Gaussian(7.56e-05, 0.5e-05),\n",
    "        bounds=[65e-06, 10e-05],\n",
    "    ),\n",
    "    pybop.Parameter(\n",
    "        \"Positive particle radius [m]\",\n",
    "        prior=pybop.Gaussian(5.22e-06, 0.5e-06),\n",
    "        bounds=[2e-06, 9e-06],\n",
    "    ),\n",
    ")"
   ]
  },
  {
   "cell_type": "markdown",
   "metadata": {},
   "source": [
    "Next, we will construct the Single Particle Model (SPM) with the Chen2020 parameter set, but like the above, this is an arbitrary selection and can be replaced with any PyBOP model."
   ]
  },
  {
   "cell_type": "code",
   "execution_count": null,
   "metadata": {},
   "outputs": [],
   "source": [
    "parameter_set = pybop.ParameterSet.pybamm(\"Chen2020\")\n",
    "model = pybop.lithium_ion.SPM(parameter_set=parameter_set)"
   ]
  },
  {
   "cell_type": "markdown",
   "metadata": {},
   "source": [
    "Next, as we will need reference data to compare our model predictions to (via the cost function), we will create synthetic data from the model constructed above. "
   ]
  },
  {
   "cell_type": "code",
   "execution_count": null,
   "metadata": {},
   "outputs": [],
   "source": [
    "t_eval = np.arange(0, 900, 2)\n",
    "values = model.predict(t_eval=t_eval)"
   ]
  },
  {
   "cell_type": "markdown",
   "metadata": {},
   "source": [
    "We can then construct the PyBOP dataset class with the synthetic data as,"
   ]
  },
  {
   "cell_type": "code",
   "execution_count": null,
   "metadata": {},
   "outputs": [],
   "source": [
    "dataset = pybop.Dataset(\n",
    "    {\n",
    "        \"Time [s]\": t_eval,\n",
    "        \"Current function [A]\": values[\"Current [A]\"].data,\n",
    "        \"Voltage [V]\": values[\"Voltage [V]\"].data,\n",
    "    }\n",
    ")"
   ]
  },
  {
   "cell_type": "markdown",
   "metadata": {},
   "source": [
    "Now, we can put this all together and construct the problem class. In this situation, we are going to compare differing fitting cost functions, so we construct the `FittingProblem`."
   ]
  },
  {
   "cell_type": "code",
   "execution_count": null,
   "metadata": {},
   "outputs": [],
   "source": [
    "problem = pybop.FittingProblem(model, parameters, dataset)"
   ]
  },
  {
   "cell_type": "markdown",
   "metadata": {},
   "source": [
    "### Sum of Squared Errors and Root Mean Squared Error\n",
    "\n",
    "First, let's start with two commonly-used cost functions: the sum of squared errors (SSE) and the root mean squared error (RMSE). Constructing these classes is very concise in PyBOP, and only requires the problem class."
   ]
  },
  {
   "cell_type": "code",
   "execution_count": null,
   "metadata": {},
   "outputs": [],
   "source": [
    "cost_SSE = pybop.SumSquaredError(problem)\n",
    "cost_RMSE = pybop.RootMeanSquaredError(problem)"
   ]
  },
  {
   "cell_type": "markdown",
   "metadata": {},
   "source": [
    "Now, we can investigate how these functions differ when fitting the parameters. To acquire the cost value for each of these, we can simply use the call method of the constructed class, such as:"
   ]
  },
  {
   "cell_type": "code",
   "execution_count": null,
   "metadata": {},
   "outputs": [
    {
     "data": {
      "text/plain": [
       "1.1753460084381524e-09"
      ]
     },
     "execution_count": null,
     "metadata": {},
     "output_type": "execute_result"
    }
   ],
   "source": [
    "cost_SSE([7.56e-05, 5.22e-06])"
   ]
  },
  {
   "cell_type": "markdown",
   "metadata": {},
   "source": [
    "Alternatively, we can use the `Parameters` class for this,"
   ]
  },
  {
   "cell_type": "code",
   "execution_count": null,
   "metadata": {},
   "outputs": [
    {
     "name": "stdout",
     "output_type": "stream",
     "text": [
      "[7.56e-05 5.22e-06]\n"
     ]
    },
    {
     "data": {
      "text/plain": [
       "1.1753460084381524e-09"
      ]
     },
     "execution_count": null,
     "metadata": {},
     "output_type": "execute_result"
    }
   ],
   "source": [
    "print(parameters.current_value())\n",
    "cost_SSE(parameters.current_value())"
   ]
  },
  {
   "cell_type": "markdown",
   "metadata": {},
   "source": [
    "If we want to generate a random sample of candidate solutions from the parameter class prior, we can also do that as:"
   ]
  },
  {
   "cell_type": "code",
   "execution_count": null,
   "metadata": {},
   "outputs": [
    {
     "name": "stdout",
     "output_type": "stream",
     "text": [
      "[8.19241247e-05 5.09035035e-06]\n"
     ]
    },
    {
     "data": {
      "text/plain": [
       "0.15352939486599507"
      ]
     },
     "execution_count": null,
     "metadata": {},
     "output_type": "execute_result"
    }
   ],
   "source": [
    "sample = parameters.rvs()\n",
    "print(sample)\n",
    "cost_SSE(sample)"
   ]
  },
  {
   "cell_type": "markdown",
   "metadata": {},
   "source": [
    "#### Comparing RMSE and SSE\n",
    "\n",
    "Now, let's vary one of the parameters, and keep a fixed value for the other, to create a scatter plot comparing the cost values for the RMSE and SSE functions."
   ]
  },
  {
   "cell_type": "code",
   "execution_count": null,
   "metadata": {},
   "outputs": [
    {
     "data": {
      "text/html": [
       "        <script type=\"text/javascript\">\n",
       "        window.PlotlyConfig = {MathJaxConfig: 'local'};\n",
       "        if (window.MathJax && window.MathJax.Hub && window.MathJax.Hub.Config) {window.MathJax.Hub.Config({SVG: {font: \"STIX-Web\"}});}\n",
       "        if (typeof require !== 'undefined') {\n",
       "        require.undef(\"plotly\");\n",
       "        requirejs.config({\n",
       "            paths: {\n",
       "                'plotly': ['https://cdn.plot.ly/plotly-2.34.0.min']\n",
       "            }\n",
       "        });\n",
       "        require(['plotly'], function(Plotly) {\n",
       "            window._Plotly = Plotly;\n",
       "        });\n",
       "        }\n",
       "        </script>\n",
       "        "
      ]
     },
     "metadata": {},
     "output_type": "display_data"
    },
    {
     "data": {
      "text/html": [
       "<div>                            <div id=\"5780bcc4-f89e-4d76-9c72-dcca63199d81\" class=\"plotly-graph-div\" style=\"height:525px; width:100%;\"></div>            <script type=\"text/javascript\">                require([\"plotly\"], function(Plotly) {                    window.PLOTLYENV=window.PLOTLYENV || {};                                    if (document.getElementById(\"5780bcc4-f89e-4d76-9c72-dcca63199d81\")) {                    Plotly.newPlot(                        \"5780bcc4-f89e-4d76-9c72-dcca63199d81\",                        [{\"mode\":\"lines\",\"name\":\"SSE\",\"x\":[4.72e-06,4.733513513513514e-06,4.747027027027027e-06,4.7605405405405405e-06,4.7740540540540536e-06,4.7875675675675674e-06,4.8010810810810805e-06,4.814594594594594e-06,4.828108108108108e-06,4.841621621621621e-06,4.855135135135135e-06,4.868648648648648e-06,4.882162162162162e-06,4.895675675675675e-06,4.909189189189189e-06,4.922702702702703e-06,4.936216216216216e-06,4.94972972972973e-06,4.963243243243243e-06,4.976756756756757e-06,4.99027027027027e-06,5.003783783783784e-06,5.017297297297298e-06,5.030810810810811e-06,5.0443243243243245e-06,5.057837837837838e-06,5.0713513513513515e-06,5.0848648648648645e-06,5.098378378378378e-06,5.1118918918918914e-06,5.125405405405405e-06,5.138918918918919e-06,5.152432432432432e-06,5.165945945945946e-06,5.179459459459459e-06,5.192972972972973e-06,5.206486486486487e-06,5.22e-06,5.233513513513514e-06,5.247027027027027e-06,5.260540540540541e-06,5.274054054054054e-06,5.287567567567568e-06,5.301081081081081e-06,5.314594594594595e-06,5.3281081081081086e-06,5.341621621621622e-06,5.3551351351351355e-06,5.3686486486486485e-06,5.382162162162162e-06,5.3956756756756755e-06,5.409189189189189e-06,5.422702702702702e-06,5.436216216216216e-06,5.44972972972973e-06,5.463243243243243e-06,5.476756756756757e-06,5.49027027027027e-06,5.503783783783784e-06,5.517297297297298e-06,5.530810810810811e-06,5.544324324324325e-06,5.557837837837838e-06,5.571351351351352e-06,5.584864864864865e-06,5.598378378378379e-06,5.611891891891892e-06,5.625405405405406e-06,5.6389189189189195e-06,5.6524324324324325e-06,5.6659459459459464e-06,5.6794594594594595e-06,5.692972972972973e-06,5.706486486486487e-06,5.72e-06],\"y\":[0.07617768982443374,0.072137520649696,0.06820577220645302,0.06438263523351556,0.060668286565964666,0.057062905000547066,0.053566660595533916,0.05017971731442636,0.04690223344633054,0.04373436159970853,0.040676248981771086,0.03772803710608347,0.03488986223250011,0.03216185537472326,0.0295441425117166,0.02703684456410314,0.024640077600626517,0.02235395278147025,0.020178576743586377,0.018114051568844852,0.016160474838007633,0.01431793965977246,0.012586535090414016,0.010966346055163737,0.009457453406554236,0.008059934138295227,0.006773861431856258,0.005599304812509562,0.004536330225557048,0.003585000150738261,0.0027453737172803377,0.0020175068052469347,0.0014014521328056047,0.0008972593915605506,0.000504975354440347,0.00022464393559278351,5.63063467322838e-05,1.1753460084381524e-09,5.576449405607098e-05,0.00022362996471697735,0.0005036289448933663,0.0008957905794674936,0.0014001419116041068,0.0020167079745147956,0.0027455118896931047,0.0035865749735607758,0.004539916834876055,0.005605555473611734,0.0067835073780430685,0.008073787622119815,0.00947640995060762,0.01099138687079864,0.012618729766930886,0.014358448986140448,0.016210553930848134,0.01817505314630486,0.020251954401899037,0.02244126475166123,0.02474299070750593,0.0271571383842808,0.02968371346388208,0.032322721311535074,0.03507416702951491,0.037938055591302616,0.04091439193082032,0.044003181006368394,0.04720442788911942,0.05051813785795618,0.05394431647611764,0.05748296968880667,0.06113410386032711,0.0648977258999971,0.06877384334738959,0.07276246444881808,0.07686359814578335],\"type\":\"scatter\"},{\"mode\":\"lines\",\"name\":\"RMSE\",\"x\":[4.72e-06,4.733513513513514e-06,4.747027027027027e-06,4.7605405405405405e-06,4.7740540540540536e-06,4.7875675675675674e-06,4.8010810810810805e-06,4.814594594594594e-06,4.828108108108108e-06,4.841621621621621e-06,4.855135135135135e-06,4.868648648648648e-06,4.882162162162162e-06,4.895675675675675e-06,4.909189189189189e-06,4.922702702702703e-06,4.936216216216216e-06,4.94972972972973e-06,4.963243243243243e-06,4.976756756756757e-06,4.99027027027027e-06,5.003783783783784e-06,5.017297297297298e-06,5.030810810810811e-06,5.0443243243243245e-06,5.057837837837838e-06,5.0713513513513515e-06,5.0848648648648645e-06,5.098378378378378e-06,5.1118918918918914e-06,5.125405405405405e-06,5.138918918918919e-06,5.152432432432432e-06,5.165945945945946e-06,5.179459459459459e-06,5.192972972972973e-06,5.206486486486487e-06,5.22e-06,5.233513513513514e-06,5.247027027027027e-06,5.260540540540541e-06,5.274054054054054e-06,5.287567567567568e-06,5.301081081081081e-06,5.314594594594595e-06,5.3281081081081086e-06,5.341621621621622e-06,5.3551351351351355e-06,5.3686486486486485e-06,5.382162162162162e-06,5.3956756756756755e-06,5.409189189189189e-06,5.422702702702702e-06,5.436216216216216e-06,5.44972972972973e-06,5.463243243243243e-06,5.476756756756757e-06,5.49027027027027e-06,5.503783783783784e-06,5.517297297297298e-06,5.530810810810811e-06,5.544324324324325e-06,5.557837837837838e-06,5.571351351351352e-06,5.584864864864865e-06,5.598378378378379e-06,5.611891891891892e-06,5.625405405405406e-06,5.6389189189189195e-06,5.6524324324324325e-06,5.6659459459459464e-06,5.6794594594594595e-06,5.692972972972973e-06,5.706486486486487e-06,5.72e-06],\"y\":[0.01301090908297373,0.012661184835700365,0.012311311168230893,0.011961292686877355,0.011611133217349313,0.011260837249368773,0.010910408954096585,0.010559852409998327,0.010209171633207568,0.00985837056625356,0.009507453097645854,0.009156423016547633,0.008805284048986357,0.008454039846227793,0.008102693998050086,0.0077512500159082785,0.0073997113458156094,0.007048081343563612,0.006696363315443254,0.0063445604994173035,0.005992676055543436,0.005640713047867551,0.005288674501110634,0.004936563369426534,0.0045843825239257775,0.004232134774764052,0.0038798228573125627,0.003527449444478912,0.0031750171392562936,0.002822528476674873,0.0024699859276613692,0.0021173918995085203,0.0017647487279783896,0.0014120586953180966,0.0010593240553824323,0.0007065470584198488,0.00035373042696470243,1.616131188595607e-06,0.0003520242859553584,0.0007049506912889997,0.0010579108814528612,0.001410902453095176,0.0017639236010188618,0.0021169726679150925,0.0024700480830646483,0.0028231483503196983,0.0031762720408526636,0.0035294177907070467,0.0038825842991615403,0.004235770327977824,0.00458897469802657,0.004942196288830534,0.00529543404304981,0.00564868696367974,0.00600195411342527,0.0063552346134339195,0.006708527641392796,0.007061832426921064,0.007415148265170267,0.007768474522679011,0.008121810616944706,0.00847515602105289,0.0088285102593202,0.009181872913675875,0.00953524362338889,0.009888622082010145,0.010242008037610965,0.010595401293638479,0.01094880170775857,0.011302209192976061,0.01165562371278604,0.012009045285394681,0.01236247398356005,0.012715909933694008,0.013069353307624619],\"type\":\"scatter\"}],                        {\"template\":{\"data\":{\"histogram2dcontour\":[{\"type\":\"histogram2dcontour\",\"colorbar\":{\"outlinewidth\":0,\"ticks\":\"\"},\"colorscale\":[[0.0,\"#0d0887\"],[0.1111111111111111,\"#46039f\"],[0.2222222222222222,\"#7201a8\"],[0.3333333333333333,\"#9c179e\"],[0.4444444444444444,\"#bd3786\"],[0.5555555555555556,\"#d8576b\"],[0.6666666666666666,\"#ed7953\"],[0.7777777777777778,\"#fb9f3a\"],[0.8888888888888888,\"#fdca26\"],[1.0,\"#f0f921\"]]}],\"choropleth\":[{\"type\":\"choropleth\",\"colorbar\":{\"outlinewidth\":0,\"ticks\":\"\"}}],\"histogram2d\":[{\"type\":\"histogram2d\",\"colorbar\":{\"outlinewidth\":0,\"ticks\":\"\"},\"colorscale\":[[0.0,\"#0d0887\"],[0.1111111111111111,\"#46039f\"],[0.2222222222222222,\"#7201a8\"],[0.3333333333333333,\"#9c179e\"],[0.4444444444444444,\"#bd3786\"],[0.5555555555555556,\"#d8576b\"],[0.6666666666666666,\"#ed7953\"],[0.7777777777777778,\"#fb9f3a\"],[0.8888888888888888,\"#fdca26\"],[1.0,\"#f0f921\"]]}],\"heatmap\":[{\"type\":\"heatmap\",\"colorbar\":{\"outlinewidth\":0,\"ticks\":\"\"},\"colorscale\":[[0.0,\"#0d0887\"],[0.1111111111111111,\"#46039f\"],[0.2222222222222222,\"#7201a8\"],[0.3333333333333333,\"#9c179e\"],[0.4444444444444444,\"#bd3786\"],[0.5555555555555556,\"#d8576b\"],[0.6666666666666666,\"#ed7953\"],[0.7777777777777778,\"#fb9f3a\"],[0.8888888888888888,\"#fdca26\"],[1.0,\"#f0f921\"]]}],\"heatmapgl\":[{\"type\":\"heatmapgl\",\"colorbar\":{\"outlinewidth\":0,\"ticks\":\"\"},\"colorscale\":[[0.0,\"#0d0887\"],[0.1111111111111111,\"#46039f\"],[0.2222222222222222,\"#7201a8\"],[0.3333333333333333,\"#9c179e\"],[0.4444444444444444,\"#bd3786\"],[0.5555555555555556,\"#d8576b\"],[0.6666666666666666,\"#ed7953\"],[0.7777777777777778,\"#fb9f3a\"],[0.8888888888888888,\"#fdca26\"],[1.0,\"#f0f921\"]]}],\"contourcarpet\":[{\"type\":\"contourcarpet\",\"colorbar\":{\"outlinewidth\":0,\"ticks\":\"\"}}],\"contour\":[{\"type\":\"contour\",\"colorbar\":{\"outlinewidth\":0,\"ticks\":\"\"},\"colorscale\":[[0.0,\"#0d0887\"],[0.1111111111111111,\"#46039f\"],[0.2222222222222222,\"#7201a8\"],[0.3333333333333333,\"#9c179e\"],[0.4444444444444444,\"#bd3786\"],[0.5555555555555556,\"#d8576b\"],[0.6666666666666666,\"#ed7953\"],[0.7777777777777778,\"#fb9f3a\"],[0.8888888888888888,\"#fdca26\"],[1.0,\"#f0f921\"]]}],\"surface\":[{\"type\":\"surface\",\"colorbar\":{\"outlinewidth\":0,\"ticks\":\"\"},\"colorscale\":[[0.0,\"#0d0887\"],[0.1111111111111111,\"#46039f\"],[0.2222222222222222,\"#7201a8\"],[0.3333333333333333,\"#9c179e\"],[0.4444444444444444,\"#bd3786\"],[0.5555555555555556,\"#d8576b\"],[0.6666666666666666,\"#ed7953\"],[0.7777777777777778,\"#fb9f3a\"],[0.8888888888888888,\"#fdca26\"],[1.0,\"#f0f921\"]]}],\"mesh3d\":[{\"type\":\"mesh3d\",\"colorbar\":{\"outlinewidth\":0,\"ticks\":\"\"}}],\"scatter\":[{\"fillpattern\":{\"fillmode\":\"overlay\",\"size\":10,\"solidity\":0.2},\"type\":\"scatter\"}],\"parcoords\":[{\"type\":\"parcoords\",\"line\":{\"colorbar\":{\"outlinewidth\":0,\"ticks\":\"\"}}}],\"scatterpolargl\":[{\"type\":\"scatterpolargl\",\"marker\":{\"colorbar\":{\"outlinewidth\":0,\"ticks\":\"\"}}}],\"bar\":[{\"error_x\":{\"color\":\"#2a3f5f\"},\"error_y\":{\"color\":\"#2a3f5f\"},\"marker\":{\"line\":{\"color\":\"#E5ECF6\",\"width\":0.5},\"pattern\":{\"fillmode\":\"overlay\",\"size\":10,\"solidity\":0.2}},\"type\":\"bar\"}],\"scattergeo\":[{\"type\":\"scattergeo\",\"marker\":{\"colorbar\":{\"outlinewidth\":0,\"ticks\":\"\"}}}],\"scatterpolar\":[{\"type\":\"scatterpolar\",\"marker\":{\"colorbar\":{\"outlinewidth\":0,\"ticks\":\"\"}}}],\"histogram\":[{\"marker\":{\"pattern\":{\"fillmode\":\"overlay\",\"size\":10,\"solidity\":0.2}},\"type\":\"histogram\"}],\"scattergl\":[{\"type\":\"scattergl\",\"marker\":{\"colorbar\":{\"outlinewidth\":0,\"ticks\":\"\"}}}],\"scatter3d\":[{\"type\":\"scatter3d\",\"line\":{\"colorbar\":{\"outlinewidth\":0,\"ticks\":\"\"}},\"marker\":{\"colorbar\":{\"outlinewidth\":0,\"ticks\":\"\"}}}],\"scattermapbox\":[{\"type\":\"scattermapbox\",\"marker\":{\"colorbar\":{\"outlinewidth\":0,\"ticks\":\"\"}}}],\"scatterternary\":[{\"type\":\"scatterternary\",\"marker\":{\"colorbar\":{\"outlinewidth\":0,\"ticks\":\"\"}}}],\"scattercarpet\":[{\"type\":\"scattercarpet\",\"marker\":{\"colorbar\":{\"outlinewidth\":0,\"ticks\":\"\"}}}],\"carpet\":[{\"aaxis\":{\"endlinecolor\":\"#2a3f5f\",\"gridcolor\":\"white\",\"linecolor\":\"white\",\"minorgridcolor\":\"white\",\"startlinecolor\":\"#2a3f5f\"},\"baxis\":{\"endlinecolor\":\"#2a3f5f\",\"gridcolor\":\"white\",\"linecolor\":\"white\",\"minorgridcolor\":\"white\",\"startlinecolor\":\"#2a3f5f\"},\"type\":\"carpet\"}],\"table\":[{\"cells\":{\"fill\":{\"color\":\"#EBF0F8\"},\"line\":{\"color\":\"white\"}},\"header\":{\"fill\":{\"color\":\"#C8D4E3\"},\"line\":{\"color\":\"white\"}},\"type\":\"table\"}],\"barpolar\":[{\"marker\":{\"line\":{\"color\":\"#E5ECF6\",\"width\":0.5},\"pattern\":{\"fillmode\":\"overlay\",\"size\":10,\"solidity\":0.2}},\"type\":\"barpolar\"}],\"pie\":[{\"automargin\":true,\"type\":\"pie\"}]},\"layout\":{\"autotypenumbers\":\"strict\",\"colorway\":[\"#636efa\",\"#EF553B\",\"#00cc96\",\"#ab63fa\",\"#FFA15A\",\"#19d3f3\",\"#FF6692\",\"#B6E880\",\"#FF97FF\",\"#FECB52\"],\"font\":{\"color\":\"#2a3f5f\"},\"hovermode\":\"closest\",\"hoverlabel\":{\"align\":\"left\"},\"paper_bgcolor\":\"white\",\"plot_bgcolor\":\"#E5ECF6\",\"polar\":{\"bgcolor\":\"#E5ECF6\",\"angularaxis\":{\"gridcolor\":\"white\",\"linecolor\":\"white\",\"ticks\":\"\"},\"radialaxis\":{\"gridcolor\":\"white\",\"linecolor\":\"white\",\"ticks\":\"\"}},\"ternary\":{\"bgcolor\":\"#E5ECF6\",\"aaxis\":{\"gridcolor\":\"white\",\"linecolor\":\"white\",\"ticks\":\"\"},\"baxis\":{\"gridcolor\":\"white\",\"linecolor\":\"white\",\"ticks\":\"\"},\"caxis\":{\"gridcolor\":\"white\",\"linecolor\":\"white\",\"ticks\":\"\"}},\"coloraxis\":{\"colorbar\":{\"outlinewidth\":0,\"ticks\":\"\"}},\"colorscale\":{\"sequential\":[[0.0,\"#0d0887\"],[0.1111111111111111,\"#46039f\"],[0.2222222222222222,\"#7201a8\"],[0.3333333333333333,\"#9c179e\"],[0.4444444444444444,\"#bd3786\"],[0.5555555555555556,\"#d8576b\"],[0.6666666666666666,\"#ed7953\"],[0.7777777777777778,\"#fb9f3a\"],[0.8888888888888888,\"#fdca26\"],[1.0,\"#f0f921\"]],\"sequentialminus\":[[0.0,\"#0d0887\"],[0.1111111111111111,\"#46039f\"],[0.2222222222222222,\"#7201a8\"],[0.3333333333333333,\"#9c179e\"],[0.4444444444444444,\"#bd3786\"],[0.5555555555555556,\"#d8576b\"],[0.6666666666666666,\"#ed7953\"],[0.7777777777777778,\"#fb9f3a\"],[0.8888888888888888,\"#fdca26\"],[1.0,\"#f0f921\"]],\"diverging\":[[0,\"#8e0152\"],[0.1,\"#c51b7d\"],[0.2,\"#de77ae\"],[0.3,\"#f1b6da\"],[0.4,\"#fde0ef\"],[0.5,\"#f7f7f7\"],[0.6,\"#e6f5d0\"],[0.7,\"#b8e186\"],[0.8,\"#7fbc41\"],[0.9,\"#4d9221\"],[1,\"#276419\"]]},\"xaxis\":{\"gridcolor\":\"white\",\"linecolor\":\"white\",\"ticks\":\"\",\"title\":{\"standoff\":15},\"zerolinecolor\":\"white\",\"automargin\":true,\"zerolinewidth\":2},\"yaxis\":{\"gridcolor\":\"white\",\"linecolor\":\"white\",\"ticks\":\"\",\"title\":{\"standoff\":15},\"zerolinecolor\":\"white\",\"automargin\":true,\"zerolinewidth\":2},\"scene\":{\"xaxis\":{\"backgroundcolor\":\"#E5ECF6\",\"gridcolor\":\"white\",\"linecolor\":\"white\",\"showbackground\":true,\"ticks\":\"\",\"zerolinecolor\":\"white\",\"gridwidth\":2},\"yaxis\":{\"backgroundcolor\":\"#E5ECF6\",\"gridcolor\":\"white\",\"linecolor\":\"white\",\"showbackground\":true,\"ticks\":\"\",\"zerolinecolor\":\"white\",\"gridwidth\":2},\"zaxis\":{\"backgroundcolor\":\"#E5ECF6\",\"gridcolor\":\"white\",\"linecolor\":\"white\",\"showbackground\":true,\"ticks\":\"\",\"zerolinecolor\":\"white\",\"gridwidth\":2}},\"shapedefaults\":{\"line\":{\"color\":\"#2a3f5f\"}},\"annotationdefaults\":{\"arrowcolor\":\"#2a3f5f\",\"arrowhead\":0,\"arrowwidth\":1},\"geo\":{\"bgcolor\":\"white\",\"landcolor\":\"#E5ECF6\",\"subunitcolor\":\"white\",\"showland\":true,\"showlakes\":true,\"lakecolor\":\"white\"},\"title\":{\"x\":0.05},\"mapbox\":{\"style\":\"light\"}}}},                        {\"responsive\": true}                    ).then(function(){\n",
       "                            \n",
       "var gd = document.getElementById('5780bcc4-f89e-4d76-9c72-dcca63199d81');\n",
       "var x = new MutationObserver(function (mutations, observer) {{\n",
       "        var display = window.getComputedStyle(gd).display;\n",
       "        if (!display || display === 'none') {{\n",
       "            console.log([gd, 'removed!']);\n",
       "            Plotly.purge(gd);\n",
       "            observer.disconnect();\n",
       "        }}\n",
       "}});\n",
       "\n",
       "// Listen for the removal of the full notebook cells\n",
       "var notebookContainer = gd.closest('#notebook-container');\n",
       "if (notebookContainer) {{\n",
       "    x.observe(notebookContainer, {childList: true});\n",
       "}}\n",
       "\n",
       "// Listen for the clearing of the current output cell\n",
       "var outputEl = gd.closest('.output');\n",
       "if (outputEl) {{\n",
       "    x.observe(outputEl, {childList: true});\n",
       "}}\n",
       "\n",
       "                        })                };                });            </script>        </div>"
      ]
     },
     "metadata": {},
     "output_type": "display_data"
    }
   ],
   "source": [
    "x_range = np.linspace(4.72e-06, 5.72e-06, 75)\n",
    "y_SSE = []\n",
    "y_RMSE = []\n",
    "for i in x_range:\n",
    "    y_SSE.append(cost_SSE([7.56e-05, i]))\n",
    "    y_RMSE.append(cost_RMSE([7.56e-05, i]))\n",
    "\n",
    "fig = go.Figure()\n",
    "fig.add_trace(go.Scatter(x=x_range, y=y_SSE, mode=\"lines\", name=\"SSE\"))\n",
    "fig.add_trace(go.Scatter(x=x_range, y=y_RMSE, mode=\"lines\", name=\"RMSE\"))\n",
    "fig.show()"
   ]
  },
  {
   "cell_type": "markdown",
   "metadata": {},
   "source": [
    "In this situation, it's clear that the curvature of the SSE cost is greater than that of the RMSE. This can improve the rate of convergence for certain optimisation algorithms. However, with incorrect hyperparameter values, larger gradients can also result in the algorithm not converging due to sampling locations outside of the \"cost valley\", e.g. infeasible parameter values."
   ]
  },
  {
   "cell_type": "markdown",
   "metadata": {},
   "source": [
    "### Minkowski distance\n",
    "\n",
    "Next, let's investigate the Minkowski distance. The Minkowski cost takes a general form, which allows for hyperparameter calibration on the cost function itself, given by\n",
    "\n",
    "$\\mathcal{L_p} = \\displaystyle \\Big(\\sum_i  |\\hat{y_i}-y_i|^p\\Big)^{1/p}$\n",
    "\n",
    "where $p ≥ 0$ is the order of the Minkowski distance.\n",
    "\n",
    "For $p = 1$, it is the Manhattan distance.  \n",
    "For $p = 2$, it is the Euclidean distance.  \n",
    "For $p ≥ 1$, the Minkowski distance is a metric, but for $0<p<1$, note that the Minkowski distance is not a metric because the triangle inequality does not hold [[1]](https://en.wikipedia.org/wiki/Minkowski_distance), [[2]](https://docs.scipy.org/doc/scipy/reference/generated/scipy.spatial.distance.minkowski.html#scipy.spatial.distance.minkowski).\n",
    "\n",
    "The Minkowski distance is related to the previous two cost function as follows. The RMSE can be computed by dividing the Euclidean distance by the square root of the length of the target vector, while the SSE is the square of the Euclidean distance.\n",
    "\n",
    "PyBOP offers a Minkowski class, which we will construct below. This class has an optional argument of `p` which designates the order in the above equation. This value can be a float, with the only requirement that it is not negative. First, let's confirm the relationship between the SSE, RMSE and the Minkowski distance with a `p` value of 2."
   ]
  },
  {
   "cell_type": "code",
   "execution_count": null,
   "metadata": {},
   "outputs": [],
   "source": [
    "cost_minkowski = pybop.Minkowski(problem, p=2)"
   ]
  },
  {
   "cell_type": "code",
   "execution_count": null,
   "metadata": {},
   "outputs": [
    {
     "data": {
      "text/html": [
       "<div>                            <div id=\"1d01bfa1-6172-4941-b3ec-60dcd0b1836d\" class=\"plotly-graph-div\" style=\"height:525px; width:100%;\"></div>            <script type=\"text/javascript\">                require([\"plotly\"], function(Plotly) {                    window.PLOTLYENV=window.PLOTLYENV || {};                                    if (document.getElementById(\"1d01bfa1-6172-4941-b3ec-60dcd0b1836d\")) {                    Plotly.newPlot(                        \"1d01bfa1-6172-4941-b3ec-60dcd0b1836d\",                        [{\"mode\":\"lines\",\"name\":\"RMSE*N\",\"x\":[4.72e-06,4.733513513513514e-06,4.747027027027027e-06,4.7605405405405405e-06,4.7740540540540536e-06,4.7875675675675674e-06,4.8010810810810805e-06,4.814594594594594e-06,4.828108108108108e-06,4.841621621621621e-06,4.855135135135135e-06,4.868648648648648e-06,4.882162162162162e-06,4.895675675675675e-06,4.909189189189189e-06,4.922702702702703e-06,4.936216216216216e-06,4.94972972972973e-06,4.963243243243243e-06,4.976756756756757e-06,4.99027027027027e-06,5.003783783783784e-06,5.017297297297298e-06,5.030810810810811e-06,5.0443243243243245e-06,5.057837837837838e-06,5.0713513513513515e-06,5.0848648648648645e-06,5.098378378378378e-06,5.1118918918918914e-06,5.125405405405405e-06,5.138918918918919e-06,5.152432432432432e-06,5.165945945945946e-06,5.179459459459459e-06,5.192972972972973e-06,5.206486486486487e-06,5.22e-06,5.233513513513514e-06,5.247027027027027e-06,5.260540540540541e-06,5.274054054054054e-06,5.287567567567568e-06,5.301081081081081e-06,5.314594594594595e-06,5.3281081081081086e-06,5.341621621621622e-06,5.3551351351351355e-06,5.3686486486486485e-06,5.382162162162162e-06,5.3956756756756755e-06,5.409189189189189e-06,5.422702702702702e-06,5.436216216216216e-06,5.44972972972973e-06,5.463243243243243e-06,5.476756756756757e-06,5.49027027027027e-06,5.503783783783784e-06,5.517297297297298e-06,5.530810810810811e-06,5.544324324324325e-06,5.557837837837838e-06,5.571351351351352e-06,5.584864864864865e-06,5.598378378378379e-06,5.611891891891892e-06,5.625405405405406e-06,5.6389189189189195e-06,5.6524324324324325e-06,5.6659459459459464e-06,5.6794594594594595e-06,5.692972972972973e-06,5.706486486486487e-06,5.72e-06],\"y\":[0.27600306125917107,0.2685842896554004,0.26116234837061225,0.25373733511944113,0.24630933105744224,0.23887843142600187,0.23144472470880367,0.22400829742316772,0.21656923476415235,0.2091276203654327,0.20168353671475292,0.19423706419240244,0.1867882818393598,0.1793372671106685,0.17188409615702263,0.16442884346763234,0.15697158214347753,0.14951238337164668,0.14205131728916273,0.1345884525835885,0.12712385628987047,0.11965759340623754,0.11218972809671132,0.10472032302835843,0.09724943910663052,0.08977713594393189,0.0823034715662484,0.07482850267451276,0.06735228448654915,0.05987487077846817,0.052396313966540986,0.04491666511715819,0.037435973779315596,0.029954288366785653,0.02247165669104855,0.014988126487082485,0.0075037555085626165,3.428331968229087e-05,0.007467562792241588,0.014954262426377884,0.02244167874499068,0.029929760765290015,0.037418470193262936,0.04490777187208017,0.052397632481755364,0.059888020284200205,0.0673789049694046,0.07487025760348187,0.08236205059396633,0.08985425767385659,0.0973468538300423,0.1048398152936118,0.11233311963499851,0.11982674570453981,0.12732067361920504,0.13481488473571776,0.14230936161018726,0.14980408790036817,0.15729904865416677,0.1647942304338377,0.17228962088263497,0.1797852088230149,0.18728098416420957,0.19477693803759885,0.2022730627909221,0.20976935192341228,0.21726580009085514,0.2247624031237346,0.23225915800268812,0.2397560628822693,0.24725311698809202,0.2547503207063675,0.2622476755805275,0.2697451842921725,0.2772428504863261],\"type\":\"scatter\"},{\"line\":{\"dash\":\"dash\"},\"mode\":\"lines\",\"name\":\"sqrt(SSE)\",\"x\":[4.72e-06,4.733513513513514e-06,4.747027027027027e-06,4.7605405405405405e-06,4.7740540540540536e-06,4.7875675675675674e-06,4.8010810810810805e-06,4.814594594594594e-06,4.828108108108108e-06,4.841621621621621e-06,4.855135135135135e-06,4.868648648648648e-06,4.882162162162162e-06,4.895675675675675e-06,4.909189189189189e-06,4.922702702702703e-06,4.936216216216216e-06,4.94972972972973e-06,4.963243243243243e-06,4.976756756756757e-06,4.99027027027027e-06,5.003783783783784e-06,5.017297297297298e-06,5.030810810810811e-06,5.0443243243243245e-06,5.057837837837838e-06,5.0713513513513515e-06,5.0848648648648645e-06,5.098378378378378e-06,5.1118918918918914e-06,5.125405405405405e-06,5.138918918918919e-06,5.152432432432432e-06,5.165945945945946e-06,5.179459459459459e-06,5.192972972972973e-06,5.206486486486487e-06,5.22e-06,5.233513513513514e-06,5.247027027027027e-06,5.260540540540541e-06,5.274054054054054e-06,5.287567567567568e-06,5.301081081081081e-06,5.314594594594595e-06,5.3281081081081086e-06,5.341621621621622e-06,5.3551351351351355e-06,5.3686486486486485e-06,5.382162162162162e-06,5.3956756756756755e-06,5.409189189189189e-06,5.422702702702702e-06,5.436216216216216e-06,5.44972972972973e-06,5.463243243243243e-06,5.476756756756757e-06,5.49027027027027e-06,5.503783783783784e-06,5.517297297297298e-06,5.530810810810811e-06,5.544324324324325e-06,5.557837837837838e-06,5.571351351351352e-06,5.584864864864865e-06,5.598378378378379e-06,5.611891891891892e-06,5.625405405405406e-06,5.6389189189189195e-06,5.6524324324324325e-06,5.6659459459459464e-06,5.6794594594594595e-06,5.692972972972973e-06,5.706486486486487e-06,5.72e-06],\"y\":[0.27600306125917107,0.2685842896554004,0.2611623483706122,0.25373733511944113,0.2463093310574422,0.23887843142600185,0.23144472470880367,0.2240082974231677,0.21656923476415235,0.20912762036543267,0.20168353671475292,0.19423706419240244,0.1867882818393598,0.1793372671106685,0.17188409615702263,0.16442884346763234,0.15697158214347753,0.14951238337164668,0.1420513172891627,0.1345884525835885,0.12712385628987044,0.11965759340623754,0.11218972809671131,0.10472032302835843,0.09724943910663052,0.08977713594393189,0.0823034715662484,0.07482850267451274,0.06735228448654913,0.05987487077846816,0.052396313966540986,0.04491666511715818,0.037435973779315596,0.029954288366785656,0.022471656691048548,0.014988126487082483,0.007503755508562616,3.428331968229087e-05,0.007467562792241588,0.014954262426377884,0.022441678744990676,0.029929760765290015,0.037418470193262936,0.04490777187208018,0.052397632481755364,0.05988802028420021,0.0673789049694046,0.07487025760348187,0.08236205059396633,0.08985425767385659,0.0973468538300423,0.1048398152936118,0.1123331196349985,0.1198267457045398,0.12732067361920504,0.13481488473571773,0.14230936161018726,0.14980408790036814,0.15729904865416677,0.1647942304338377,0.17228962088263494,0.1797852088230149,0.18728098416420955,0.19477693803759882,0.2022730627909221,0.20976935192341228,0.2172658000908551,0.2247624031237346,0.2322591580026881,0.2397560628822693,0.247253116988092,0.2547503207063675,0.2622476755805275,0.2697451842921724,0.2772428504863261],\"type\":\"scatter\"},{\"line\":{\"dash\":\"dot\"},\"mode\":\"lines\",\"name\":\"Minkowski\",\"x\":[4.72e-06,4.733513513513514e-06,4.747027027027027e-06,4.7605405405405405e-06,4.7740540540540536e-06,4.7875675675675674e-06,4.8010810810810805e-06,4.814594594594594e-06,4.828108108108108e-06,4.841621621621621e-06,4.855135135135135e-06,4.868648648648648e-06,4.882162162162162e-06,4.895675675675675e-06,4.909189189189189e-06,4.922702702702703e-06,4.936216216216216e-06,4.94972972972973e-06,4.963243243243243e-06,4.976756756756757e-06,4.99027027027027e-06,5.003783783783784e-06,5.017297297297298e-06,5.030810810810811e-06,5.0443243243243245e-06,5.057837837837838e-06,5.0713513513513515e-06,5.0848648648648645e-06,5.098378378378378e-06,5.1118918918918914e-06,5.125405405405405e-06,5.138918918918919e-06,5.152432432432432e-06,5.165945945945946e-06,5.179459459459459e-06,5.192972972972973e-06,5.206486486486487e-06,5.22e-06,5.233513513513514e-06,5.247027027027027e-06,5.260540540540541e-06,5.274054054054054e-06,5.287567567567568e-06,5.301081081081081e-06,5.314594594594595e-06,5.3281081081081086e-06,5.341621621621622e-06,5.3551351351351355e-06,5.3686486486486485e-06,5.382162162162162e-06,5.3956756756756755e-06,5.409189189189189e-06,5.422702702702702e-06,5.436216216216216e-06,5.44972972972973e-06,5.463243243243243e-06,5.476756756756757e-06,5.49027027027027e-06,5.503783783783784e-06,5.517297297297298e-06,5.530810810810811e-06,5.544324324324325e-06,5.557837837837838e-06,5.571351351351352e-06,5.584864864864865e-06,5.598378378378379e-06,5.611891891891892e-06,5.625405405405406e-06,5.6389189189189195e-06,5.6524324324324325e-06,5.6659459459459464e-06,5.6794594594594595e-06,5.692972972972973e-06,5.706486486486487e-06,5.72e-06],\"y\":[0.27600306125917107,0.2685842896554004,0.2611623483706122,0.25373733511944113,0.2463093310574422,0.23887843142600185,0.23144472470880367,0.2240082974231677,0.21656923476415235,0.20912762036543267,0.20168353671475292,0.19423706419240244,0.1867882818393598,0.1793372671106685,0.17188409615702263,0.16442884346763234,0.15697158214347753,0.14951238337164668,0.1420513172891627,0.1345884525835885,0.12712385628987044,0.11965759340623754,0.11218972809671131,0.10472032302835843,0.09724943910663052,0.08977713594393189,0.0823034715662484,0.07482850267451274,0.06735228448654913,0.05987487077846816,0.052396313966540986,0.04491666511715818,0.037435973779315596,0.029954288366785656,0.022471656691048548,0.014988126487082483,0.007503755508562616,3.428331968229087e-05,0.007467562792241588,0.014954262426377884,0.022441678744990676,0.029929760765290015,0.037418470193262936,0.04490777187208018,0.052397632481755364,0.05988802028420021,0.06737890496940459,0.07487025760348187,0.08236205059396633,0.08985425767385659,0.0973468538300423,0.1048398152936118,0.1123331196349985,0.1198267457045398,0.12732067361920504,0.13481488473571773,0.14230936161018726,0.14980408790036814,0.15729904865416677,0.1647942304338377,0.17228962088263494,0.1797852088230149,0.18728098416420955,0.19477693803759882,0.2022730627909221,0.20976935192341228,0.2172658000908551,0.2247624031237346,0.2322591580026881,0.2397560628822693,0.247253116988092,0.2547503207063675,0.2622476755805275,0.2697451842921724,0.2772428504863261],\"type\":\"scatter\"}],                        {\"template\":{\"data\":{\"histogram2dcontour\":[{\"type\":\"histogram2dcontour\",\"colorbar\":{\"outlinewidth\":0,\"ticks\":\"\"},\"colorscale\":[[0.0,\"#0d0887\"],[0.1111111111111111,\"#46039f\"],[0.2222222222222222,\"#7201a8\"],[0.3333333333333333,\"#9c179e\"],[0.4444444444444444,\"#bd3786\"],[0.5555555555555556,\"#d8576b\"],[0.6666666666666666,\"#ed7953\"],[0.7777777777777778,\"#fb9f3a\"],[0.8888888888888888,\"#fdca26\"],[1.0,\"#f0f921\"]]}],\"choropleth\":[{\"type\":\"choropleth\",\"colorbar\":{\"outlinewidth\":0,\"ticks\":\"\"}}],\"histogram2d\":[{\"type\":\"histogram2d\",\"colorbar\":{\"outlinewidth\":0,\"ticks\":\"\"},\"colorscale\":[[0.0,\"#0d0887\"],[0.1111111111111111,\"#46039f\"],[0.2222222222222222,\"#7201a8\"],[0.3333333333333333,\"#9c179e\"],[0.4444444444444444,\"#bd3786\"],[0.5555555555555556,\"#d8576b\"],[0.6666666666666666,\"#ed7953\"],[0.7777777777777778,\"#fb9f3a\"],[0.8888888888888888,\"#fdca26\"],[1.0,\"#f0f921\"]]}],\"heatmap\":[{\"type\":\"heatmap\",\"colorbar\":{\"outlinewidth\":0,\"ticks\":\"\"},\"colorscale\":[[0.0,\"#0d0887\"],[0.1111111111111111,\"#46039f\"],[0.2222222222222222,\"#7201a8\"],[0.3333333333333333,\"#9c179e\"],[0.4444444444444444,\"#bd3786\"],[0.5555555555555556,\"#d8576b\"],[0.6666666666666666,\"#ed7953\"],[0.7777777777777778,\"#fb9f3a\"],[0.8888888888888888,\"#fdca26\"],[1.0,\"#f0f921\"]]}],\"heatmapgl\":[{\"type\":\"heatmapgl\",\"colorbar\":{\"outlinewidth\":0,\"ticks\":\"\"},\"colorscale\":[[0.0,\"#0d0887\"],[0.1111111111111111,\"#46039f\"],[0.2222222222222222,\"#7201a8\"],[0.3333333333333333,\"#9c179e\"],[0.4444444444444444,\"#bd3786\"],[0.5555555555555556,\"#d8576b\"],[0.6666666666666666,\"#ed7953\"],[0.7777777777777778,\"#fb9f3a\"],[0.8888888888888888,\"#fdca26\"],[1.0,\"#f0f921\"]]}],\"contourcarpet\":[{\"type\":\"contourcarpet\",\"colorbar\":{\"outlinewidth\":0,\"ticks\":\"\"}}],\"contour\":[{\"type\":\"contour\",\"colorbar\":{\"outlinewidth\":0,\"ticks\":\"\"},\"colorscale\":[[0.0,\"#0d0887\"],[0.1111111111111111,\"#46039f\"],[0.2222222222222222,\"#7201a8\"],[0.3333333333333333,\"#9c179e\"],[0.4444444444444444,\"#bd3786\"],[0.5555555555555556,\"#d8576b\"],[0.6666666666666666,\"#ed7953\"],[0.7777777777777778,\"#fb9f3a\"],[0.8888888888888888,\"#fdca26\"],[1.0,\"#f0f921\"]]}],\"surface\":[{\"type\":\"surface\",\"colorbar\":{\"outlinewidth\":0,\"ticks\":\"\"},\"colorscale\":[[0.0,\"#0d0887\"],[0.1111111111111111,\"#46039f\"],[0.2222222222222222,\"#7201a8\"],[0.3333333333333333,\"#9c179e\"],[0.4444444444444444,\"#bd3786\"],[0.5555555555555556,\"#d8576b\"],[0.6666666666666666,\"#ed7953\"],[0.7777777777777778,\"#fb9f3a\"],[0.8888888888888888,\"#fdca26\"],[1.0,\"#f0f921\"]]}],\"mesh3d\":[{\"type\":\"mesh3d\",\"colorbar\":{\"outlinewidth\":0,\"ticks\":\"\"}}],\"scatter\":[{\"fillpattern\":{\"fillmode\":\"overlay\",\"size\":10,\"solidity\":0.2},\"type\":\"scatter\"}],\"parcoords\":[{\"type\":\"parcoords\",\"line\":{\"colorbar\":{\"outlinewidth\":0,\"ticks\":\"\"}}}],\"scatterpolargl\":[{\"type\":\"scatterpolargl\",\"marker\":{\"colorbar\":{\"outlinewidth\":0,\"ticks\":\"\"}}}],\"bar\":[{\"error_x\":{\"color\":\"#2a3f5f\"},\"error_y\":{\"color\":\"#2a3f5f\"},\"marker\":{\"line\":{\"color\":\"#E5ECF6\",\"width\":0.5},\"pattern\":{\"fillmode\":\"overlay\",\"size\":10,\"solidity\":0.2}},\"type\":\"bar\"}],\"scattergeo\":[{\"type\":\"scattergeo\",\"marker\":{\"colorbar\":{\"outlinewidth\":0,\"ticks\":\"\"}}}],\"scatterpolar\":[{\"type\":\"scatterpolar\",\"marker\":{\"colorbar\":{\"outlinewidth\":0,\"ticks\":\"\"}}}],\"histogram\":[{\"marker\":{\"pattern\":{\"fillmode\":\"overlay\",\"size\":10,\"solidity\":0.2}},\"type\":\"histogram\"}],\"scattergl\":[{\"type\":\"scattergl\",\"marker\":{\"colorbar\":{\"outlinewidth\":0,\"ticks\":\"\"}}}],\"scatter3d\":[{\"type\":\"scatter3d\",\"line\":{\"colorbar\":{\"outlinewidth\":0,\"ticks\":\"\"}},\"marker\":{\"colorbar\":{\"outlinewidth\":0,\"ticks\":\"\"}}}],\"scattermapbox\":[{\"type\":\"scattermapbox\",\"marker\":{\"colorbar\":{\"outlinewidth\":0,\"ticks\":\"\"}}}],\"scatterternary\":[{\"type\":\"scatterternary\",\"marker\":{\"colorbar\":{\"outlinewidth\":0,\"ticks\":\"\"}}}],\"scattercarpet\":[{\"type\":\"scattercarpet\",\"marker\":{\"colorbar\":{\"outlinewidth\":0,\"ticks\":\"\"}}}],\"carpet\":[{\"aaxis\":{\"endlinecolor\":\"#2a3f5f\",\"gridcolor\":\"white\",\"linecolor\":\"white\",\"minorgridcolor\":\"white\",\"startlinecolor\":\"#2a3f5f\"},\"baxis\":{\"endlinecolor\":\"#2a3f5f\",\"gridcolor\":\"white\",\"linecolor\":\"white\",\"minorgridcolor\":\"white\",\"startlinecolor\":\"#2a3f5f\"},\"type\":\"carpet\"}],\"table\":[{\"cells\":{\"fill\":{\"color\":\"#EBF0F8\"},\"line\":{\"color\":\"white\"}},\"header\":{\"fill\":{\"color\":\"#C8D4E3\"},\"line\":{\"color\":\"white\"}},\"type\":\"table\"}],\"barpolar\":[{\"marker\":{\"line\":{\"color\":\"#E5ECF6\",\"width\":0.5},\"pattern\":{\"fillmode\":\"overlay\",\"size\":10,\"solidity\":0.2}},\"type\":\"barpolar\"}],\"pie\":[{\"automargin\":true,\"type\":\"pie\"}]},\"layout\":{\"autotypenumbers\":\"strict\",\"colorway\":[\"#636efa\",\"#EF553B\",\"#00cc96\",\"#ab63fa\",\"#FFA15A\",\"#19d3f3\",\"#FF6692\",\"#B6E880\",\"#FF97FF\",\"#FECB52\"],\"font\":{\"color\":\"#2a3f5f\"},\"hovermode\":\"closest\",\"hoverlabel\":{\"align\":\"left\"},\"paper_bgcolor\":\"white\",\"plot_bgcolor\":\"#E5ECF6\",\"polar\":{\"bgcolor\":\"#E5ECF6\",\"angularaxis\":{\"gridcolor\":\"white\",\"linecolor\":\"white\",\"ticks\":\"\"},\"radialaxis\":{\"gridcolor\":\"white\",\"linecolor\":\"white\",\"ticks\":\"\"}},\"ternary\":{\"bgcolor\":\"#E5ECF6\",\"aaxis\":{\"gridcolor\":\"white\",\"linecolor\":\"white\",\"ticks\":\"\"},\"baxis\":{\"gridcolor\":\"white\",\"linecolor\":\"white\",\"ticks\":\"\"},\"caxis\":{\"gridcolor\":\"white\",\"linecolor\":\"white\",\"ticks\":\"\"}},\"coloraxis\":{\"colorbar\":{\"outlinewidth\":0,\"ticks\":\"\"}},\"colorscale\":{\"sequential\":[[0.0,\"#0d0887\"],[0.1111111111111111,\"#46039f\"],[0.2222222222222222,\"#7201a8\"],[0.3333333333333333,\"#9c179e\"],[0.4444444444444444,\"#bd3786\"],[0.5555555555555556,\"#d8576b\"],[0.6666666666666666,\"#ed7953\"],[0.7777777777777778,\"#fb9f3a\"],[0.8888888888888888,\"#fdca26\"],[1.0,\"#f0f921\"]],\"sequentialminus\":[[0.0,\"#0d0887\"],[0.1111111111111111,\"#46039f\"],[0.2222222222222222,\"#7201a8\"],[0.3333333333333333,\"#9c179e\"],[0.4444444444444444,\"#bd3786\"],[0.5555555555555556,\"#d8576b\"],[0.6666666666666666,\"#ed7953\"],[0.7777777777777778,\"#fb9f3a\"],[0.8888888888888888,\"#fdca26\"],[1.0,\"#f0f921\"]],\"diverging\":[[0,\"#8e0152\"],[0.1,\"#c51b7d\"],[0.2,\"#de77ae\"],[0.3,\"#f1b6da\"],[0.4,\"#fde0ef\"],[0.5,\"#f7f7f7\"],[0.6,\"#e6f5d0\"],[0.7,\"#b8e186\"],[0.8,\"#7fbc41\"],[0.9,\"#4d9221\"],[1,\"#276419\"]]},\"xaxis\":{\"gridcolor\":\"white\",\"linecolor\":\"white\",\"ticks\":\"\",\"title\":{\"standoff\":15},\"zerolinecolor\":\"white\",\"automargin\":true,\"zerolinewidth\":2},\"yaxis\":{\"gridcolor\":\"white\",\"linecolor\":\"white\",\"ticks\":\"\",\"title\":{\"standoff\":15},\"zerolinecolor\":\"white\",\"automargin\":true,\"zerolinewidth\":2},\"scene\":{\"xaxis\":{\"backgroundcolor\":\"#E5ECF6\",\"gridcolor\":\"white\",\"linecolor\":\"white\",\"showbackground\":true,\"ticks\":\"\",\"zerolinecolor\":\"white\",\"gridwidth\":2},\"yaxis\":{\"backgroundcolor\":\"#E5ECF6\",\"gridcolor\":\"white\",\"linecolor\":\"white\",\"showbackground\":true,\"ticks\":\"\",\"zerolinecolor\":\"white\",\"gridwidth\":2},\"zaxis\":{\"backgroundcolor\":\"#E5ECF6\",\"gridcolor\":\"white\",\"linecolor\":\"white\",\"showbackground\":true,\"ticks\":\"\",\"zerolinecolor\":\"white\",\"gridwidth\":2}},\"shapedefaults\":{\"line\":{\"color\":\"#2a3f5f\"}},\"annotationdefaults\":{\"arrowcolor\":\"#2a3f5f\",\"arrowhead\":0,\"arrowwidth\":1},\"geo\":{\"bgcolor\":\"white\",\"landcolor\":\"#E5ECF6\",\"subunitcolor\":\"white\",\"showland\":true,\"showlakes\":true,\"lakecolor\":\"white\"},\"title\":{\"x\":0.05},\"mapbox\":{\"style\":\"light\"}}}},                        {\"responsive\": true}                    ).then(function(){\n",
       "                            \n",
       "var gd = document.getElementById('1d01bfa1-6172-4941-b3ec-60dcd0b1836d');\n",
       "var x = new MutationObserver(function (mutations, observer) {{\n",
       "        var display = window.getComputedStyle(gd).display;\n",
       "        if (!display || display === 'none') {{\n",
       "            console.log([gd, 'removed!']);\n",
       "            Plotly.purge(gd);\n",
       "            observer.disconnect();\n",
       "        }}\n",
       "}});\n",
       "\n",
       "// Listen for the removal of the full notebook cells\n",
       "var notebookContainer = gd.closest('#notebook-container');\n",
       "if (notebookContainer) {{\n",
       "    x.observe(notebookContainer, {childList: true});\n",
       "}}\n",
       "\n",
       "// Listen for the clearing of the current output cell\n",
       "var outputEl = gd.closest('.output');\n",
       "if (outputEl) {{\n",
       "    x.observe(outputEl, {childList: true});\n",
       "}}\n",
       "\n",
       "                        })                };                });            </script>        </div>"
      ]
     },
     "metadata": {},
     "output_type": "display_data"
    }
   ],
   "source": [
    "y_minkowski = []\n",
    "for i in x_range:\n",
    "    y_minkowski.append(cost_minkowski([7.56e-05, i]))\n",
    "\n",
    "fig = go.Figure()\n",
    "fig.add_trace(\n",
    "    go.Scatter(\n",
    "        x=x_range,\n",
    "        y=np.asarray(y_RMSE) * np.sqrt(len(t_eval)),\n",
    "        mode=\"lines\",\n",
    "        name=\"RMSE*N\",\n",
    "    )\n",
    ")\n",
    "fig.add_trace(\n",
    "    go.Scatter(\n",
    "        x=x_range,\n",
    "        y=np.sqrt(y_SSE),\n",
    "        mode=\"lines\",\n",
    "        line=dict(dash=\"dash\"),\n",
    "        name=\"sqrt(SSE)\",\n",
    "    )\n",
    ")\n",
    "fig.add_trace(\n",
    "    go.Scatter(\n",
    "        x=x_range, y=y_minkowski, mode=\"lines\", line=dict(dash=\"dot\"), name=\"Minkowski\"\n",
    "    )\n",
    ")\n",
    "fig.show()"
   ]
  },
  {
   "cell_type": "markdown",
   "metadata": {},
   "source": [
    "As expected, these lines lie on top of one another. Now, let's take a look at how the Minkowski cost changes for different orders, `p`."
   ]
  },
  {
   "cell_type": "code",
   "execution_count": null,
   "metadata": {},
   "outputs": [],
   "source": [
    "p_orders = np.append(0.75, np.linspace(1, 3, 5))\n",
    "y_minkowski = tuple(\n",
    "    [pybop.Minkowski(problem, p=j)([7.56e-05, i]) for i in x_range] for j in p_orders\n",
    ")"
   ]
  },
  {
   "cell_type": "code",
   "execution_count": null,
   "metadata": {},
   "outputs": [
    {
     "data": {
      "text/html": [
       "<div>                            <div id=\"f1bcfc15-b492-4d5e-9bc5-a64761ed2702\" class=\"plotly-graph-div\" style=\"height:525px; width:100%;\"></div>            <script type=\"text/javascript\">                require([\"plotly\"], function(Plotly) {                    window.PLOTLYENV=window.PLOTLYENV || {};                                    if (document.getElementById(\"f1bcfc15-b492-4d5e-9bc5-a64761ed2702\")) {                    Plotly.newPlot(                        \"f1bcfc15-b492-4d5e-9bc5-a64761ed2702\",                        [{\"mode\":\"lines\",\"name\":\"Minkowski 0.75\",\"x\":[4.72e-06,4.733513513513514e-06,4.747027027027027e-06,4.7605405405405405e-06,4.7740540540540536e-06,4.7875675675675674e-06,4.8010810810810805e-06,4.814594594594594e-06,4.828108108108108e-06,4.841621621621621e-06,4.855135135135135e-06,4.868648648648648e-06,4.882162162162162e-06,4.895675675675675e-06,4.909189189189189e-06,4.922702702702703e-06,4.936216216216216e-06,4.94972972972973e-06,4.963243243243243e-06,4.976756756756757e-06,4.99027027027027e-06,5.003783783783784e-06,5.017297297297298e-06,5.030810810810811e-06,5.0443243243243245e-06,5.057837837837838e-06,5.0713513513513515e-06,5.0848648648648645e-06,5.098378378378378e-06,5.1118918918918914e-06,5.125405405405405e-06,5.138918918918919e-06,5.152432432432432e-06,5.165945945945946e-06,5.179459459459459e-06,5.192972972972973e-06,5.206486486486487e-06,5.22e-06,5.233513513513514e-06,5.247027027027027e-06,5.260540540540541e-06,5.274054054054054e-06,5.287567567567568e-06,5.301081081081081e-06,5.314594594594595e-06,5.3281081081081086e-06,5.341621621621622e-06,5.3551351351351355e-06,5.3686486486486485e-06,5.382162162162162e-06,5.3956756756756755e-06,5.409189189189189e-06,5.422702702702702e-06,5.436216216216216e-06,5.44972972972973e-06,5.463243243243243e-06,5.476756756756757e-06,5.49027027027027e-06,5.503783783783784e-06,5.517297297297298e-06,5.530810810810811e-06,5.544324324324325e-06,5.557837837837838e-06,5.571351351351352e-06,5.584864864864865e-06,5.598378378378379e-06,5.611891891891892e-06,5.625405405405406e-06,5.6389189189189195e-06,5.6524324324324325e-06,5.6659459459459464e-06,5.6794594594594595e-06,5.692972972972973e-06,5.706486486486487e-06,5.72e-06],\"y\":[40.32126511174296,39.24100595474458,38.160104652624476,37.07857330715338,35.99642188607302,34.913662238053895,33.83030538176678,32.74636211840433,31.661843109064506,30.576758848825236,29.491119718399414,28.404935867759114,27.318217303863506,26.23097386380408,25.14321525040424,24.054950986617605,22.966190450268275,21.876942793539005,20.78721706957879,19.697022191760997,18.60636688037579,17.515259540188946,16.42370865347883,15.331722482083881,14.239309077529368,13.146476351583857,12.053232038157184,10.959583730691858,9.865538854470012,8.771104680552305,7.676288323232835,6.581096747158728,5.4855367294271895,4.389614896208983,3.293337739016651,2.1967114576354945,1.0997417651252752,0.0018278840575656195,1.0951963518543755,2.1931589238882143,3.291440489070055,4.39003610739826,5.488940626288824,6.588148954440822,7.687656149712737,8.787457406772498,9.887548067900484,10.98792362287857,12.088579708116166,13.189512111120028,14.290716755949724,15.39218969816664,16.493927141600544,17.59592543839334,18.69818108244882,19.800690705932567,20.903451074272475,22.00645907633469,23.10971175891271,24.21320634205903,25.316940166560446,26.42091070270004,27.525115541904704,28.629552413852128,29.734219186190202,30.8391138558783,31.94423454657418,33.04957951609085,34.155147151411555,35.26093599327714,36.36694466000831,37.47317192106809,38.5796166825535,39.68627799839473,40.79315496993598],\"type\":\"scatter\"},{\"mode\":\"lines\",\"name\":\"Minkowski 1.0\",\"x\":[4.72e-06,4.733513513513514e-06,4.747027027027027e-06,4.7605405405405405e-06,4.7740540540540536e-06,4.7875675675675674e-06,4.8010810810810805e-06,4.814594594594594e-06,4.828108108108108e-06,4.841621621621621e-06,4.855135135135135e-06,4.868648648648648e-06,4.882162162162162e-06,4.895675675675675e-06,4.909189189189189e-06,4.922702702702703e-06,4.936216216216216e-06,4.94972972972973e-06,4.963243243243243e-06,4.976756756756757e-06,4.99027027027027e-06,5.003783783783784e-06,5.017297297297298e-06,5.030810810810811e-06,5.0443243243243245e-06,5.057837837837838e-06,5.0713513513513515e-06,5.0848648648648645e-06,5.098378378378378e-06,5.1118918918918914e-06,5.125405405405405e-06,5.138918918918919e-06,5.152432432432432e-06,5.165945945945946e-06,5.179459459459459e-06,5.192972972972973e-06,5.206486486486487e-06,5.22e-06,5.233513513513514e-06,5.247027027027027e-06,5.260540540540541e-06,5.274054054054054e-06,5.287567567567568e-06,5.301081081081081e-06,5.314594594594595e-06,5.3281081081081086e-06,5.341621621621622e-06,5.3551351351351355e-06,5.3686486486486485e-06,5.382162162162162e-06,5.3956756756756755e-06,5.409189189189189e-06,5.422702702702702e-06,5.436216216216216e-06,5.44972972972973e-06,5.463243243243243e-06,5.476756756756757e-06,5.49027027027027e-06,5.503783783783784e-06,5.517297297297298e-06,5.530810810810811e-06,5.544324324324325e-06,5.557837837837838e-06,5.571351351351352e-06,5.584864864864865e-06,5.598378378378379e-06,5.611891891891892e-06,5.625405405405406e-06,5.6389189189189195e-06,5.6524324324324325e-06,5.6659459459459464e-06,5.6794594594594595e-06,5.692972972972973e-06,5.706486486486487e-06,5.72e-06],\"y\":[5.413107215953675,5.267998434744355,5.122807209684625,4.97753526936318,4.83218404389941,4.686755224103176,4.541250382975507,4.395671061735861,4.25001878089312,4.104295036377762,3.958501306824469,3.8126390370710466,3.666709650762019,3.5207145464600704,3.374655102633723,3.228532671276353,3.0823485827777355,2.9361041351481054,2.7898006112151212,2.6434392721645916,2.4970213515514548,2.350548041659293,2.2040205369153822,2.0574400025351545,1.9108075737930164,1.7641243653458463,1.617391465923887,1.4706099434223634,1.3237808413147598,1.1769051801930686,1.0299839579803631,0.8830181506515409,0.7360087074765458,0.5889565564827026,0.44186260825041224,0.2947277406252584,0.14755281519429886,0.000363684072683057,0.14691388544478556,0.2942040536643904,0.44153106714240486,0.5888941762491813,0.7362926562282679,0.8837258015516909,1.0311929298406253,1.1786933802676853,1.3262265139493103,1.4737917137231653,1.6213883839171022,1.7690159506786056,1.9166738602767706,2.064361578435122,2.2120785926579014,2.359824411747139,2.5075985651525294,2.6554006024802597,2.803230092785371,2.951086623078154,3.0989698033094437,3.2468792684577705,3.394814671083145,3.542775682701895,3.690761992484801,3.8387733096601555,3.9868093634543613,4.134869901883708,4.282954691512092,4.43106351830154,4.5791961869795195,4.727352523366823,4.875532366970115,5.023735578084726,5.171962036446825,5.320211642177285,5.468484305620349],\"type\":\"scatter\"},{\"mode\":\"lines\",\"name\":\"Minkowski 1.5\",\"x\":[4.72e-06,4.733513513513514e-06,4.747027027027027e-06,4.7605405405405405e-06,4.7740540540540536e-06,4.7875675675675674e-06,4.8010810810810805e-06,4.814594594594594e-06,4.828108108108108e-06,4.841621621621621e-06,4.855135135135135e-06,4.868648648648648e-06,4.882162162162162e-06,4.895675675675675e-06,4.909189189189189e-06,4.922702702702703e-06,4.936216216216216e-06,4.94972972972973e-06,4.963243243243243e-06,4.976756756756757e-06,4.99027027027027e-06,5.003783783783784e-06,5.017297297297298e-06,5.030810810810811e-06,5.0443243243243245e-06,5.057837837837838e-06,5.0713513513513515e-06,5.0848648648648645e-06,5.098378378378378e-06,5.1118918918918914e-06,5.125405405405405e-06,5.138918918918919e-06,5.152432432432432e-06,5.165945945945946e-06,5.179459459459459e-06,5.192972972972973e-06,5.206486486486487e-06,5.22e-06,5.233513513513514e-06,5.247027027027027e-06,5.260540540540541e-06,5.274054054054054e-06,5.287567567567568e-06,5.301081081081081e-06,5.314594594594595e-06,5.3281081081081086e-06,5.341621621621622e-06,5.3551351351351355e-06,5.3686486486486485e-06,5.382162162162162e-06,5.3956756756756755e-06,5.409189189189189e-06,5.422702702702702e-06,5.436216216216216e-06,5.44972972972973e-06,5.463243243243243e-06,5.476756756756757e-06,5.49027027027027e-06,5.503783783783784e-06,5.517297297297298e-06,5.530810810810811e-06,5.544324324324325e-06,5.557837837837838e-06,5.571351351351352e-06,5.584864864864865e-06,5.598378378378379e-06,5.611891891891892e-06,5.625405405405406e-06,5.6389189189189195e-06,5.6524324324324325e-06,5.6659459459459464e-06,5.6794594594594595e-06,5.692972972972973e-06,5.706486486486487e-06,5.72e-06],\"y\":[0.7389809794548585,0.7191443310026796,0.6992977712109233,0.6794415536080424,0.6595758887060166,0.6397010240305673,0.6198171897776976,0.599924611257162,0.5800235105360481,0.5601141058390935,0.54019661261342,0.5202712410904505,0.5003381981932151,0.48039768693665663,0.46044990715184025,0.4404950545633955,0.4205333214956688,0.40056489542631696,0.38058996133799455,0.3606087006933625,0.34062129080510134,0.3206279035020098,0.30062870932599817,0.28062387485247525,0.26061356220316273,0.24059793029988816,0.22057713410296198,0.20055132531328923,0.18052065191766511,0.16048525833689642,0.14044528556786146,0.12040087123642014,0.10035214904721888,0.08029924967154253,0.060242301717397924,0.040181431348030164,0.020116776745101234,7.44894941592134e-05,0.020023717101065142,0.04009911388609579,0.060177900029946475,0.08025995430961695,0.10034517404582992,0.12043346211987283,0.14052472545178263,0.16061887462274296,0.18071582367617395,0.20081549003288804,0.22091779442848264,0.24102266090528512,0.26113001661462815,0.2812397917519287,0.30135191985377513,0.3214663376627309,0.3415829850748067,0.36170180506881844,0.3818227436026151,0.4019457493745357,0.42207077456494735,0.44219777514040837,0.4623267097539345,0.4824575399760657,0.5025902300767321,0.5227247473744057,0.5428610622234051,0.5629991478419178,0.5831389803049666,0.6032805386232886,0.6234238046674994,0.643568763317859,0.6637154019392447,0.6838637108698814,0.7040136833477716,0.7241653155291571,0.7443186056978243],\"type\":\"scatter\"},{\"mode\":\"lines\",\"name\":\"Minkowski 2.0\",\"x\":[4.72e-06,4.733513513513514e-06,4.747027027027027e-06,4.7605405405405405e-06,4.7740540540540536e-06,4.7875675675675674e-06,4.8010810810810805e-06,4.814594594594594e-06,4.828108108108108e-06,4.841621621621621e-06,4.855135135135135e-06,4.868648648648648e-06,4.882162162162162e-06,4.895675675675675e-06,4.909189189189189e-06,4.922702702702703e-06,4.936216216216216e-06,4.94972972972973e-06,4.963243243243243e-06,4.976756756756757e-06,4.99027027027027e-06,5.003783783783784e-06,5.017297297297298e-06,5.030810810810811e-06,5.0443243243243245e-06,5.057837837837838e-06,5.0713513513513515e-06,5.0848648648648645e-06,5.098378378378378e-06,5.1118918918918914e-06,5.125405405405405e-06,5.138918918918919e-06,5.152432432432432e-06,5.165945945945946e-06,5.179459459459459e-06,5.192972972972973e-06,5.206486486486487e-06,5.22e-06,5.233513513513514e-06,5.247027027027027e-06,5.260540540540541e-06,5.274054054054054e-06,5.287567567567568e-06,5.301081081081081e-06,5.314594594594595e-06,5.3281081081081086e-06,5.341621621621622e-06,5.3551351351351355e-06,5.3686486486486485e-06,5.382162162162162e-06,5.3956756756756755e-06,5.409189189189189e-06,5.422702702702702e-06,5.436216216216216e-06,5.44972972972973e-06,5.463243243243243e-06,5.476756756756757e-06,5.49027027027027e-06,5.503783783783784e-06,5.517297297297298e-06,5.530810810810811e-06,5.544324324324325e-06,5.557837837837838e-06,5.571351351351352e-06,5.584864864864865e-06,5.598378378378379e-06,5.611891891891892e-06,5.625405405405406e-06,5.6389189189189195e-06,5.6524324324324325e-06,5.6659459459459464e-06,5.6794594594594595e-06,5.692972972972973e-06,5.706486486486487e-06,5.72e-06],\"y\":[0.27600306125917107,0.2685842896554004,0.2611623483706122,0.25373733511944113,0.2463093310574422,0.23887843142600185,0.23144472470880367,0.2240082974231677,0.21656923476415235,0.20912762036543267,0.20168353671475292,0.19423706419240244,0.1867882818393598,0.1793372671106685,0.17188409615702263,0.16442884346763234,0.15697158214347753,0.14951238337164668,0.1420513172891627,0.1345884525835885,0.12712385628987044,0.11965759340623754,0.11218972809671131,0.10472032302835843,0.09724943910663052,0.08977713594393189,0.0823034715662484,0.07482850267451274,0.06735228448654913,0.05987487077846816,0.052396313966540986,0.04491666511715818,0.037435973779315596,0.029954288366785656,0.022471656691048548,0.014988126487082483,0.007503755508562616,3.428331968229087e-05,0.007467562792241588,0.014954262426377884,0.022441678744990676,0.029929760765290015,0.037418470193262936,0.04490777187208018,0.052397632481755364,0.05988802028420021,0.06737890496940459,0.07487025760348187,0.08236205059396633,0.08985425767385659,0.0973468538300423,0.1048398152936118,0.1123331196349985,0.1198267457045398,0.12732067361920504,0.13481488473571773,0.14230936161018726,0.14980408790036814,0.15729904865416677,0.1647942304338377,0.17228962088263494,0.1797852088230149,0.18728098416420955,0.19477693803759882,0.2022730627909221,0.20976935192341228,0.2172658000908551,0.2247624031237346,0.2322591580026881,0.2397560628822693,0.247253116988092,0.2547503207063675,0.2622476755805275,0.2697451842921724,0.2772428504863261],\"type\":\"scatter\"},{\"mode\":\"lines\",\"name\":\"Minkowski 2.5\",\"x\":[4.72e-06,4.733513513513514e-06,4.747027027027027e-06,4.7605405405405405e-06,4.7740540540540536e-06,4.7875675675675674e-06,4.8010810810810805e-06,4.814594594594594e-06,4.828108108108108e-06,4.841621621621621e-06,4.855135135135135e-06,4.868648648648648e-06,4.882162162162162e-06,4.895675675675675e-06,4.909189189189189e-06,4.922702702702703e-06,4.936216216216216e-06,4.94972972972973e-06,4.963243243243243e-06,4.976756756756757e-06,4.99027027027027e-06,5.003783783783784e-06,5.017297297297298e-06,5.030810810810811e-06,5.0443243243243245e-06,5.057837837837838e-06,5.0713513513513515e-06,5.0848648648648645e-06,5.098378378378378e-06,5.1118918918918914e-06,5.125405405405405e-06,5.138918918918919e-06,5.152432432432432e-06,5.165945945945946e-06,5.179459459459459e-06,5.192972972972973e-06,5.206486486486487e-06,5.22e-06,5.233513513513514e-06,5.247027027027027e-06,5.260540540540541e-06,5.274054054054054e-06,5.287567567567568e-06,5.301081081081081e-06,5.314594594594595e-06,5.3281081081081086e-06,5.341621621621622e-06,5.3551351351351355e-06,5.3686486486486485e-06,5.382162162162162e-06,5.3956756756756755e-06,5.409189189189189e-06,5.422702702702702e-06,5.436216216216216e-06,5.44972972972973e-06,5.463243243243243e-06,5.476756756756757e-06,5.49027027027027e-06,5.503783783783784e-06,5.517297297297298e-06,5.530810810810811e-06,5.544324324324325e-06,5.557837837837838e-06,5.571351351351352e-06,5.584864864864865e-06,5.598378378378379e-06,5.611891891891892e-06,5.625405405405406e-06,5.6389189189189195e-06,5.6524324324324325e-06,5.6659459459459464e-06,5.6794594594594595e-06,5.692972972972973e-06,5.706486486486487e-06,5.72e-06],\"y\":[0.15363526859152854,0.14950070857889336,0.14536465739811086,0.14122717005986343,0.13708829220870186,0.1329480773843588,0.1288065752708573,0.1246638344030878,0.12051990253547977,0.1163748265043039,0.11222865246583126,0.10808142533894997,0.10393318925874521,0.09978398742774634,0.09563386227694648,0.09148285526234419,0.08733100702011647,0.0831783570838786,0.07902494435265353,0.07487080686918408,0.07071598171461795,0.06656050483026216,0.062404411575194156,0.05824773646069131,0.05409051297704789,0.04993277385688063,0.04577455090823246,0.04161587515876971,0.037456776773476426,0.033297285073051186,0.029137428590751614,0.024977235075307868,0.020816731418329175,0.01665594389430568,0.012494898552075523,0.008333621886463909,0.004172149093812604,2.1687783047438442e-05,0.00415148208987899,0.008313457094675063,0.012475573749098252,0.01663780081272551,0.020800117319273625,0.024962504622810237,0.029124945279982682,0.033287422828994814,0.03744992166529529,0.04161242700117831,0.045774924840367576,0.04993740196408008,0.05409984588972282,0.05826224487389354,0.06242458795590427,0.06658686492369825,0.07074906630820121,0.074911183368402,0.07907320806839098,0.08323513301953243,0.08739695164407772,0.09155865825117392,0.09572024778598572,0.09988171588920039,0.1040430588414106,0.10820427364012518,0.11236535799627698,0.11652631029848863,0.12068712961910084,0.12484781571941513,0.12900836903791688,0.1331687906946503,0.13732908245992131,0.14148924677805277,0.14564928677357034,0.14980920623155772,0.1539690095354614],\"type\":\"scatter\"},{\"mode\":\"lines\",\"name\":\"Minkowski 3.0\",\"x\":[4.72e-06,4.733513513513514e-06,4.747027027027027e-06,4.7605405405405405e-06,4.7740540540540536e-06,4.7875675675675674e-06,4.8010810810810805e-06,4.814594594594594e-06,4.828108108108108e-06,4.841621621621621e-06,4.855135135135135e-06,4.868648648648648e-06,4.882162162162162e-06,4.895675675675675e-06,4.909189189189189e-06,4.922702702702703e-06,4.936216216216216e-06,4.94972972972973e-06,4.963243243243243e-06,4.976756756756757e-06,4.99027027027027e-06,5.003783783783784e-06,5.017297297297298e-06,5.030810810810811e-06,5.0443243243243245e-06,5.057837837837838e-06,5.0713513513513515e-06,5.0848648648648645e-06,5.098378378378378e-06,5.1118918918918914e-06,5.125405405405405e-06,5.138918918918919e-06,5.152432432432432e-06,5.165945945945946e-06,5.179459459459459e-06,5.192972972972973e-06,5.206486486486487e-06,5.22e-06,5.233513513513514e-06,5.247027027027027e-06,5.260540540540541e-06,5.274054054054054e-06,5.287567567567568e-06,5.301081081081081e-06,5.314594594594595e-06,5.3281081081081086e-06,5.341621621621622e-06,5.3551351351351355e-06,5.3686486486486485e-06,5.382162162162162e-06,5.3956756756756755e-06,5.409189189189189e-06,5.422702702702702e-06,5.436216216216216e-06,5.44972972972973e-06,5.463243243243243e-06,5.476756756756757e-06,5.49027027027027e-06,5.503783783783784e-06,5.517297297297298e-06,5.530810810810811e-06,5.544324324324325e-06,5.557837837837838e-06,5.571351351351352e-06,5.584864864864865e-06,5.598378378378379e-06,5.611891891891892e-06,5.625405405405406e-06,5.6389189189189195e-06,5.6524324324324325e-06,5.6659459459459464e-06,5.6794594594594595e-06,5.692972972972973e-06,5.706486486486487e-06,5.72e-06],\"y\":[0.1042310753619674,0.10142317784668733,0.09861443052467331,0.09580487077635648,0.092994529580891,0.09018344327255141,0.08737164553352257,0.08455916923996074,0.08174604671617121,0.07893230963958024,0.07611798920571096,0.07330311573758792,0.07048771900884616,0.06767182813556065,0.06485547168753009,0.06203867754811027,0.059221473020532496,0.05640388464345454,0.05358593849807184,0.05076766006113299,0.047949074135649236,0.04513020474327778,0.0423110754613058,0.03949170928042144,0.03667212847732107,0.033852354795824775,0.031032409331662635,0.028212312629267152,0.02539208462922683,0.022571744678924227,0.01975131157665051,0.01693080357314167,0.014110238335811355,0.011289633129710047,0.008469005147039493,0.005648372221355613,0.0028277602181769135,1.6047049527915993e-05,0.002813512835499534,0.005634018767067295,0.008454476987242731,0.011274864424805886,0.01409516714394603,0.01691537316426792,0.01973547144134991,0.022555451657981763,0.02537530411595809,0.028195019700757325,0.031014589860285838,0.03383400659279288,0.036653262417126284,0.03947235038000536,0.04229126407965479,0.04510999764306094,0.04792854572279339,0.05074690348705145,0.053565066603939046,0.056383031200470085,0.05920079397433982,0.062018352250494485,0.06483570380562738,0.06765284691092223,0.07046978029254536,0.07328650318448854,0.07610301532618541,0.07891931693883669,0.08173540873107324,0.08455129190006068,0.08736696812462334,0.09018243956535059,0.09299770885207949,0.09581277909123914,0.09862765387349912,0.10144233725658532,0.10425683373518964],\"type\":\"scatter\"}],                        {\"template\":{\"data\":{\"histogram2dcontour\":[{\"type\":\"histogram2dcontour\",\"colorbar\":{\"outlinewidth\":0,\"ticks\":\"\"},\"colorscale\":[[0.0,\"#0d0887\"],[0.1111111111111111,\"#46039f\"],[0.2222222222222222,\"#7201a8\"],[0.3333333333333333,\"#9c179e\"],[0.4444444444444444,\"#bd3786\"],[0.5555555555555556,\"#d8576b\"],[0.6666666666666666,\"#ed7953\"],[0.7777777777777778,\"#fb9f3a\"],[0.8888888888888888,\"#fdca26\"],[1.0,\"#f0f921\"]]}],\"choropleth\":[{\"type\":\"choropleth\",\"colorbar\":{\"outlinewidth\":0,\"ticks\":\"\"}}],\"histogram2d\":[{\"type\":\"histogram2d\",\"colorbar\":{\"outlinewidth\":0,\"ticks\":\"\"},\"colorscale\":[[0.0,\"#0d0887\"],[0.1111111111111111,\"#46039f\"],[0.2222222222222222,\"#7201a8\"],[0.3333333333333333,\"#9c179e\"],[0.4444444444444444,\"#bd3786\"],[0.5555555555555556,\"#d8576b\"],[0.6666666666666666,\"#ed7953\"],[0.7777777777777778,\"#fb9f3a\"],[0.8888888888888888,\"#fdca26\"],[1.0,\"#f0f921\"]]}],\"heatmap\":[{\"type\":\"heatmap\",\"colorbar\":{\"outlinewidth\":0,\"ticks\":\"\"},\"colorscale\":[[0.0,\"#0d0887\"],[0.1111111111111111,\"#46039f\"],[0.2222222222222222,\"#7201a8\"],[0.3333333333333333,\"#9c179e\"],[0.4444444444444444,\"#bd3786\"],[0.5555555555555556,\"#d8576b\"],[0.6666666666666666,\"#ed7953\"],[0.7777777777777778,\"#fb9f3a\"],[0.8888888888888888,\"#fdca26\"],[1.0,\"#f0f921\"]]}],\"heatmapgl\":[{\"type\":\"heatmapgl\",\"colorbar\":{\"outlinewidth\":0,\"ticks\":\"\"},\"colorscale\":[[0.0,\"#0d0887\"],[0.1111111111111111,\"#46039f\"],[0.2222222222222222,\"#7201a8\"],[0.3333333333333333,\"#9c179e\"],[0.4444444444444444,\"#bd3786\"],[0.5555555555555556,\"#d8576b\"],[0.6666666666666666,\"#ed7953\"],[0.7777777777777778,\"#fb9f3a\"],[0.8888888888888888,\"#fdca26\"],[1.0,\"#f0f921\"]]}],\"contourcarpet\":[{\"type\":\"contourcarpet\",\"colorbar\":{\"outlinewidth\":0,\"ticks\":\"\"}}],\"contour\":[{\"type\":\"contour\",\"colorbar\":{\"outlinewidth\":0,\"ticks\":\"\"},\"colorscale\":[[0.0,\"#0d0887\"],[0.1111111111111111,\"#46039f\"],[0.2222222222222222,\"#7201a8\"],[0.3333333333333333,\"#9c179e\"],[0.4444444444444444,\"#bd3786\"],[0.5555555555555556,\"#d8576b\"],[0.6666666666666666,\"#ed7953\"],[0.7777777777777778,\"#fb9f3a\"],[0.8888888888888888,\"#fdca26\"],[1.0,\"#f0f921\"]]}],\"surface\":[{\"type\":\"surface\",\"colorbar\":{\"outlinewidth\":0,\"ticks\":\"\"},\"colorscale\":[[0.0,\"#0d0887\"],[0.1111111111111111,\"#46039f\"],[0.2222222222222222,\"#7201a8\"],[0.3333333333333333,\"#9c179e\"],[0.4444444444444444,\"#bd3786\"],[0.5555555555555556,\"#d8576b\"],[0.6666666666666666,\"#ed7953\"],[0.7777777777777778,\"#fb9f3a\"],[0.8888888888888888,\"#fdca26\"],[1.0,\"#f0f921\"]]}],\"mesh3d\":[{\"type\":\"mesh3d\",\"colorbar\":{\"outlinewidth\":0,\"ticks\":\"\"}}],\"scatter\":[{\"fillpattern\":{\"fillmode\":\"overlay\",\"size\":10,\"solidity\":0.2},\"type\":\"scatter\"}],\"parcoords\":[{\"type\":\"parcoords\",\"line\":{\"colorbar\":{\"outlinewidth\":0,\"ticks\":\"\"}}}],\"scatterpolargl\":[{\"type\":\"scatterpolargl\",\"marker\":{\"colorbar\":{\"outlinewidth\":0,\"ticks\":\"\"}}}],\"bar\":[{\"error_x\":{\"color\":\"#2a3f5f\"},\"error_y\":{\"color\":\"#2a3f5f\"},\"marker\":{\"line\":{\"color\":\"#E5ECF6\",\"width\":0.5},\"pattern\":{\"fillmode\":\"overlay\",\"size\":10,\"solidity\":0.2}},\"type\":\"bar\"}],\"scattergeo\":[{\"type\":\"scattergeo\",\"marker\":{\"colorbar\":{\"outlinewidth\":0,\"ticks\":\"\"}}}],\"scatterpolar\":[{\"type\":\"scatterpolar\",\"marker\":{\"colorbar\":{\"outlinewidth\":0,\"ticks\":\"\"}}}],\"histogram\":[{\"marker\":{\"pattern\":{\"fillmode\":\"overlay\",\"size\":10,\"solidity\":0.2}},\"type\":\"histogram\"}],\"scattergl\":[{\"type\":\"scattergl\",\"marker\":{\"colorbar\":{\"outlinewidth\":0,\"ticks\":\"\"}}}],\"scatter3d\":[{\"type\":\"scatter3d\",\"line\":{\"colorbar\":{\"outlinewidth\":0,\"ticks\":\"\"}},\"marker\":{\"colorbar\":{\"outlinewidth\":0,\"ticks\":\"\"}}}],\"scattermapbox\":[{\"type\":\"scattermapbox\",\"marker\":{\"colorbar\":{\"outlinewidth\":0,\"ticks\":\"\"}}}],\"scatterternary\":[{\"type\":\"scatterternary\",\"marker\":{\"colorbar\":{\"outlinewidth\":0,\"ticks\":\"\"}}}],\"scattercarpet\":[{\"type\":\"scattercarpet\",\"marker\":{\"colorbar\":{\"outlinewidth\":0,\"ticks\":\"\"}}}],\"carpet\":[{\"aaxis\":{\"endlinecolor\":\"#2a3f5f\",\"gridcolor\":\"white\",\"linecolor\":\"white\",\"minorgridcolor\":\"white\",\"startlinecolor\":\"#2a3f5f\"},\"baxis\":{\"endlinecolor\":\"#2a3f5f\",\"gridcolor\":\"white\",\"linecolor\":\"white\",\"minorgridcolor\":\"white\",\"startlinecolor\":\"#2a3f5f\"},\"type\":\"carpet\"}],\"table\":[{\"cells\":{\"fill\":{\"color\":\"#EBF0F8\"},\"line\":{\"color\":\"white\"}},\"header\":{\"fill\":{\"color\":\"#C8D4E3\"},\"line\":{\"color\":\"white\"}},\"type\":\"table\"}],\"barpolar\":[{\"marker\":{\"line\":{\"color\":\"#E5ECF6\",\"width\":0.5},\"pattern\":{\"fillmode\":\"overlay\",\"size\":10,\"solidity\":0.2}},\"type\":\"barpolar\"}],\"pie\":[{\"automargin\":true,\"type\":\"pie\"}]},\"layout\":{\"autotypenumbers\":\"strict\",\"colorway\":[\"#636efa\",\"#EF553B\",\"#00cc96\",\"#ab63fa\",\"#FFA15A\",\"#19d3f3\",\"#FF6692\",\"#B6E880\",\"#FF97FF\",\"#FECB52\"],\"font\":{\"color\":\"#2a3f5f\"},\"hovermode\":\"closest\",\"hoverlabel\":{\"align\":\"left\"},\"paper_bgcolor\":\"white\",\"plot_bgcolor\":\"#E5ECF6\",\"polar\":{\"bgcolor\":\"#E5ECF6\",\"angularaxis\":{\"gridcolor\":\"white\",\"linecolor\":\"white\",\"ticks\":\"\"},\"radialaxis\":{\"gridcolor\":\"white\",\"linecolor\":\"white\",\"ticks\":\"\"}},\"ternary\":{\"bgcolor\":\"#E5ECF6\",\"aaxis\":{\"gridcolor\":\"white\",\"linecolor\":\"white\",\"ticks\":\"\"},\"baxis\":{\"gridcolor\":\"white\",\"linecolor\":\"white\",\"ticks\":\"\"},\"caxis\":{\"gridcolor\":\"white\",\"linecolor\":\"white\",\"ticks\":\"\"}},\"coloraxis\":{\"colorbar\":{\"outlinewidth\":0,\"ticks\":\"\"}},\"colorscale\":{\"sequential\":[[0.0,\"#0d0887\"],[0.1111111111111111,\"#46039f\"],[0.2222222222222222,\"#7201a8\"],[0.3333333333333333,\"#9c179e\"],[0.4444444444444444,\"#bd3786\"],[0.5555555555555556,\"#d8576b\"],[0.6666666666666666,\"#ed7953\"],[0.7777777777777778,\"#fb9f3a\"],[0.8888888888888888,\"#fdca26\"],[1.0,\"#f0f921\"]],\"sequentialminus\":[[0.0,\"#0d0887\"],[0.1111111111111111,\"#46039f\"],[0.2222222222222222,\"#7201a8\"],[0.3333333333333333,\"#9c179e\"],[0.4444444444444444,\"#bd3786\"],[0.5555555555555556,\"#d8576b\"],[0.6666666666666666,\"#ed7953\"],[0.7777777777777778,\"#fb9f3a\"],[0.8888888888888888,\"#fdca26\"],[1.0,\"#f0f921\"]],\"diverging\":[[0,\"#8e0152\"],[0.1,\"#c51b7d\"],[0.2,\"#de77ae\"],[0.3,\"#f1b6da\"],[0.4,\"#fde0ef\"],[0.5,\"#f7f7f7\"],[0.6,\"#e6f5d0\"],[0.7,\"#b8e186\"],[0.8,\"#7fbc41\"],[0.9,\"#4d9221\"],[1,\"#276419\"]]},\"xaxis\":{\"gridcolor\":\"white\",\"linecolor\":\"white\",\"ticks\":\"\",\"title\":{\"standoff\":15},\"zerolinecolor\":\"white\",\"automargin\":true,\"zerolinewidth\":2},\"yaxis\":{\"gridcolor\":\"white\",\"linecolor\":\"white\",\"ticks\":\"\",\"title\":{\"standoff\":15},\"zerolinecolor\":\"white\",\"automargin\":true,\"zerolinewidth\":2},\"scene\":{\"xaxis\":{\"backgroundcolor\":\"#E5ECF6\",\"gridcolor\":\"white\",\"linecolor\":\"white\",\"showbackground\":true,\"ticks\":\"\",\"zerolinecolor\":\"white\",\"gridwidth\":2},\"yaxis\":{\"backgroundcolor\":\"#E5ECF6\",\"gridcolor\":\"white\",\"linecolor\":\"white\",\"showbackground\":true,\"ticks\":\"\",\"zerolinecolor\":\"white\",\"gridwidth\":2},\"zaxis\":{\"backgroundcolor\":\"#E5ECF6\",\"gridcolor\":\"white\",\"linecolor\":\"white\",\"showbackground\":true,\"ticks\":\"\",\"zerolinecolor\":\"white\",\"gridwidth\":2}},\"shapedefaults\":{\"line\":{\"color\":\"#2a3f5f\"}},\"annotationdefaults\":{\"arrowcolor\":\"#2a3f5f\",\"arrowhead\":0,\"arrowwidth\":1},\"geo\":{\"bgcolor\":\"white\",\"landcolor\":\"#E5ECF6\",\"subunitcolor\":\"white\",\"showland\":true,\"showlakes\":true,\"lakecolor\":\"white\"},\"title\":{\"x\":0.05},\"mapbox\":{\"style\":\"light\"}}},\"yaxis\":{\"range\":[0,0.7443186056978243]}},                        {\"responsive\": true}                    ).then(function(){\n",
       "                            \n",
       "var gd = document.getElementById('f1bcfc15-b492-4d5e-9bc5-a64761ed2702');\n",
       "var x = new MutationObserver(function (mutations, observer) {{\n",
       "        var display = window.getComputedStyle(gd).display;\n",
       "        if (!display || display === 'none') {{\n",
       "            console.log([gd, 'removed!']);\n",
       "            Plotly.purge(gd);\n",
       "            observer.disconnect();\n",
       "        }}\n",
       "}});\n",
       "\n",
       "// Listen for the removal of the full notebook cells\n",
       "var notebookContainer = gd.closest('#notebook-container');\n",
       "if (notebookContainer) {{\n",
       "    x.observe(notebookContainer, {childList: true});\n",
       "}}\n",
       "\n",
       "// Listen for the clearing of the current output cell\n",
       "var outputEl = gd.closest('.output');\n",
       "if (outputEl) {{\n",
       "    x.observe(outputEl, {childList: true});\n",
       "}}\n",
       "\n",
       "                        })                };                });            </script>        </div>"
      ]
     },
     "metadata": {},
     "output_type": "display_data"
    }
   ],
   "source": [
    "fig = go.Figure()\n",
    "for k, _ in enumerate(p_orders):\n",
    "    fig.add_trace(\n",
    "        go.Scatter(x=x_range, y=y_minkowski[k], mode=\"lines\", name=f\"Minkowski {_}\")\n",
    "    )\n",
    "fig.update_yaxes(range=[0, np.max(y_minkowski[2])])\n",
    "fig.show()"
   ]
  },
  {
   "cell_type": "markdown",
   "metadata": {},
   "source": [
    "As seen above, the Minkowski cost allows for a range of different cost functions to be created. This provides users with another hyperparameter to calibrate for optimisation algorithm convergence. This addition does expand the global search space, and should be carefully considered before deciding upon.\n",
    "\n",
    "### Sum of Power\n",
    "Next, we introduce a similar cost function, the `SumofPower` implementation. This cost function is the $p$-th power of the Minkowski distance of order $p$. It provides a generalised formulation for the Sum of Squared Errors (SSE) cost function, and is given by,\n",
    "\n",
    "$\\mathcal{L_p} = \\displaystyle \\sum_i  |\\hat{y_i}-y_i|^p$\n",
    "\n",
    "where $p ≥ 0$ is the power order. A few special cases include,\n",
    "\n",
    "$p = 1$: Sum of Absolute Differences\n",
    "$p = 2$: Sum of Squared Differences\n",
    "\n",
    "Next we repeat the above examples with the addition of the `SumofPower` class."
   ]
  },
  {
   "cell_type": "code",
   "execution_count": null,
   "metadata": {},
   "outputs": [],
   "source": [
    "cost_sumofpower = pybop.SumofPower(problem, p=2)"
   ]
  },
  {
   "cell_type": "code",
   "execution_count": null,
   "metadata": {},
   "outputs": [
    {
     "data": {
      "text/html": [
       "<div>                            <div id=\"42a50737-2d8b-45f3-aba0-1ae10e3c6cbf\" class=\"plotly-graph-div\" style=\"height:525px; width:100%;\"></div>            <script type=\"text/javascript\">                require([\"plotly\"], function(Plotly) {                    window.PLOTLYENV=window.PLOTLYENV || {};                                    if (document.getElementById(\"42a50737-2d8b-45f3-aba0-1ae10e3c6cbf\")) {                    Plotly.newPlot(                        \"42a50737-2d8b-45f3-aba0-1ae10e3c6cbf\",                        [{\"mode\":\"lines\",\"name\":\"RMSE*N\",\"x\":[4.72e-06,4.733513513513514e-06,4.747027027027027e-06,4.7605405405405405e-06,4.7740540540540536e-06,4.7875675675675674e-06,4.8010810810810805e-06,4.814594594594594e-06,4.828108108108108e-06,4.841621621621621e-06,4.855135135135135e-06,4.868648648648648e-06,4.882162162162162e-06,4.895675675675675e-06,4.909189189189189e-06,4.922702702702703e-06,4.936216216216216e-06,4.94972972972973e-06,4.963243243243243e-06,4.976756756756757e-06,4.99027027027027e-06,5.003783783783784e-06,5.017297297297298e-06,5.030810810810811e-06,5.0443243243243245e-06,5.057837837837838e-06,5.0713513513513515e-06,5.0848648648648645e-06,5.098378378378378e-06,5.1118918918918914e-06,5.125405405405405e-06,5.138918918918919e-06,5.152432432432432e-06,5.165945945945946e-06,5.179459459459459e-06,5.192972972972973e-06,5.206486486486487e-06,5.22e-06,5.233513513513514e-06,5.247027027027027e-06,5.260540540540541e-06,5.274054054054054e-06,5.287567567567568e-06,5.301081081081081e-06,5.314594594594595e-06,5.3281081081081086e-06,5.341621621621622e-06,5.3551351351351355e-06,5.3686486486486485e-06,5.382162162162162e-06,5.3956756756756755e-06,5.409189189189189e-06,5.422702702702702e-06,5.436216216216216e-06,5.44972972972973e-06,5.463243243243243e-06,5.476756756756757e-06,5.49027027027027e-06,5.503783783783784e-06,5.517297297297298e-06,5.530810810810811e-06,5.544324324324325e-06,5.557837837837838e-06,5.571351351351352e-06,5.584864864864865e-06,5.598378378378379e-06,5.611891891891892e-06,5.625405405405406e-06,5.6389189189189195e-06,5.6524324324324325e-06,5.6659459459459464e-06,5.6794594594594595e-06,5.692972972972973e-06,5.706486486486487e-06,5.72e-06],\"y\":[0.27600306125917107,0.2685842896554004,0.26116234837061225,0.25373733511944113,0.24630933105744224,0.23887843142600187,0.23144472470880367,0.22400829742316772,0.21656923476415235,0.2091276203654327,0.20168353671475292,0.19423706419240244,0.1867882818393598,0.1793372671106685,0.17188409615702263,0.16442884346763234,0.15697158214347753,0.14951238337164668,0.14205131728916273,0.1345884525835885,0.12712385628987047,0.11965759340623754,0.11218972809671132,0.10472032302835843,0.09724943910663052,0.08977713594393189,0.0823034715662484,0.07482850267451276,0.06735228448654915,0.05987487077846817,0.052396313966540986,0.04491666511715819,0.037435973779315596,0.029954288366785653,0.02247165669104855,0.014988126487082485,0.0075037555085626165,3.428331968229087e-05,0.007467562792241588,0.014954262426377884,0.02244167874499068,0.029929760765290015,0.037418470193262936,0.04490777187208017,0.052397632481755364,0.059888020284200205,0.0673789049694046,0.07487025760348187,0.08236205059396633,0.08985425767385659,0.0973468538300423,0.1048398152936118,0.11233311963499851,0.11982674570453981,0.12732067361920504,0.13481488473571776,0.14230936161018726,0.14980408790036817,0.15729904865416677,0.1647942304338377,0.17228962088263497,0.1797852088230149,0.18728098416420957,0.19477693803759885,0.2022730627909221,0.20976935192341228,0.21726580009085514,0.2247624031237346,0.23225915800268812,0.2397560628822693,0.24725311698809202,0.2547503207063675,0.2622476755805275,0.2697451842921725,0.2772428504863261],\"type\":\"scatter\"},{\"line\":{\"dash\":\"dash\"},\"mode\":\"lines\",\"name\":\"SSE\",\"x\":[4.72e-06,4.733513513513514e-06,4.747027027027027e-06,4.7605405405405405e-06,4.7740540540540536e-06,4.7875675675675674e-06,4.8010810810810805e-06,4.814594594594594e-06,4.828108108108108e-06,4.841621621621621e-06,4.855135135135135e-06,4.868648648648648e-06,4.882162162162162e-06,4.895675675675675e-06,4.909189189189189e-06,4.922702702702703e-06,4.936216216216216e-06,4.94972972972973e-06,4.963243243243243e-06,4.976756756756757e-06,4.99027027027027e-06,5.003783783783784e-06,5.017297297297298e-06,5.030810810810811e-06,5.0443243243243245e-06,5.057837837837838e-06,5.0713513513513515e-06,5.0848648648648645e-06,5.098378378378378e-06,5.1118918918918914e-06,5.125405405405405e-06,5.138918918918919e-06,5.152432432432432e-06,5.165945945945946e-06,5.179459459459459e-06,5.192972972972973e-06,5.206486486486487e-06,5.22e-06,5.233513513513514e-06,5.247027027027027e-06,5.260540540540541e-06,5.274054054054054e-06,5.287567567567568e-06,5.301081081081081e-06,5.314594594594595e-06,5.3281081081081086e-06,5.341621621621622e-06,5.3551351351351355e-06,5.3686486486486485e-06,5.382162162162162e-06,5.3956756756756755e-06,5.409189189189189e-06,5.422702702702702e-06,5.436216216216216e-06,5.44972972972973e-06,5.463243243243243e-06,5.476756756756757e-06,5.49027027027027e-06,5.503783783783784e-06,5.517297297297298e-06,5.530810810810811e-06,5.544324324324325e-06,5.557837837837838e-06,5.571351351351352e-06,5.584864864864865e-06,5.598378378378379e-06,5.611891891891892e-06,5.625405405405406e-06,5.6389189189189195e-06,5.6524324324324325e-06,5.6659459459459464e-06,5.6794594594594595e-06,5.692972972972973e-06,5.706486486486487e-06,5.72e-06],\"y\":[0.07617768982443374,0.072137520649696,0.06820577220645302,0.06438263523351556,0.060668286565964666,0.057062905000547066,0.053566660595533916,0.05017971731442636,0.04690223344633054,0.04373436159970853,0.040676248981771086,0.03772803710608347,0.03488986223250011,0.03216185537472326,0.0295441425117166,0.02703684456410314,0.024640077600626517,0.02235395278147025,0.020178576743586377,0.018114051568844852,0.016160474838007633,0.01431793965977246,0.012586535090414016,0.010966346055163737,0.009457453406554236,0.008059934138295227,0.006773861431856258,0.005599304812509562,0.004536330225557048,0.003585000150738261,0.0027453737172803377,0.0020175068052469347,0.0014014521328056047,0.0008972593915605506,0.000504975354440347,0.00022464393559278351,5.63063467322838e-05,1.1753460084381524e-09,5.576449405607098e-05,0.00022362996471697735,0.0005036289448933663,0.0008957905794674936,0.0014001419116041068,0.0020167079745147956,0.0027455118896931047,0.0035865749735607758,0.004539916834876055,0.005605555473611734,0.0067835073780430685,0.008073787622119815,0.00947640995060762,0.01099138687079864,0.012618729766930886,0.014358448986140448,0.016210553930848134,0.01817505314630486,0.020251954401899037,0.02244126475166123,0.02474299070750593,0.0271571383842808,0.02968371346388208,0.032322721311535074,0.03507416702951491,0.037938055591302616,0.04091439193082032,0.044003181006368394,0.04720442788911942,0.05051813785795618,0.05394431647611764,0.05748296968880667,0.06113410386032711,0.0648977258999971,0.06877384334738959,0.07276246444881808,0.07686359814578335],\"type\":\"scatter\"},{\"line\":{\"dash\":\"dot\"},\"mode\":\"lines\",\"name\":\"Sum of Power\",\"x\":[4.72e-06,4.733513513513514e-06,4.747027027027027e-06,4.7605405405405405e-06,4.7740540540540536e-06,4.7875675675675674e-06,4.8010810810810805e-06,4.814594594594594e-06,4.828108108108108e-06,4.841621621621621e-06,4.855135135135135e-06,4.868648648648648e-06,4.882162162162162e-06,4.895675675675675e-06,4.909189189189189e-06,4.922702702702703e-06,4.936216216216216e-06,4.94972972972973e-06,4.963243243243243e-06,4.976756756756757e-06,4.99027027027027e-06,5.003783783783784e-06,5.017297297297298e-06,5.030810810810811e-06,5.0443243243243245e-06,5.057837837837838e-06,5.0713513513513515e-06,5.0848648648648645e-06,5.098378378378378e-06,5.1118918918918914e-06,5.125405405405405e-06,5.138918918918919e-06,5.152432432432432e-06,5.165945945945946e-06,5.179459459459459e-06,5.192972972972973e-06,5.206486486486487e-06,5.22e-06,5.233513513513514e-06,5.247027027027027e-06,5.260540540540541e-06,5.274054054054054e-06,5.287567567567568e-06,5.301081081081081e-06,5.314594594594595e-06,5.3281081081081086e-06,5.341621621621622e-06,5.3551351351351355e-06,5.3686486486486485e-06,5.382162162162162e-06,5.3956756756756755e-06,5.409189189189189e-06,5.422702702702702e-06,5.436216216216216e-06,5.44972972972973e-06,5.463243243243243e-06,5.476756756756757e-06,5.49027027027027e-06,5.503783783783784e-06,5.517297297297298e-06,5.530810810810811e-06,5.544324324324325e-06,5.557837837837838e-06,5.571351351351352e-06,5.584864864864865e-06,5.598378378378379e-06,5.611891891891892e-06,5.625405405405406e-06,5.6389189189189195e-06,5.6524324324324325e-06,5.6659459459459464e-06,5.6794594594594595e-06,5.692972972972973e-06,5.706486486486487e-06,5.72e-06],\"y\":[0.07617768982443374,0.072137520649696,0.06820577220645302,0.06438263523351556,0.060668286565964666,0.057062905000547066,0.053566660595533916,0.05017971731442636,0.04690223344633054,0.04373436159970853,0.040676248981771086,0.03772803710608347,0.03488986223250011,0.03216185537472326,0.0295441425117166,0.02703684456410314,0.024640077600626517,0.02235395278147025,0.020178576743586377,0.018114051568844852,0.016160474838007633,0.01431793965977246,0.012586535090414016,0.010966346055163737,0.009457453406554236,0.008059934138295227,0.006773861431856258,0.005599304812509562,0.004536330225557048,0.003585000150738261,0.0027453737172803377,0.0020175068052469347,0.0014014521328056047,0.0008972593915605506,0.000504975354440347,0.00022464393559278351,5.63063467322838e-05,1.1753460084381524e-09,5.576449405607098e-05,0.00022362996471697735,0.0005036289448933663,0.0008957905794674936,0.0014001419116041068,0.0020167079745147956,0.0027455118896931047,0.0035865749735607758,0.004539916834876055,0.005605555473611734,0.0067835073780430685,0.008073787622119815,0.00947640995060762,0.01099138687079864,0.012618729766930886,0.014358448986140448,0.016210553930848134,0.01817505314630486,0.020251954401899037,0.02244126475166123,0.02474299070750593,0.0271571383842808,0.02968371346388208,0.032322721311535074,0.03507416702951491,0.037938055591302616,0.04091439193082032,0.044003181006368394,0.04720442788911942,0.05051813785795618,0.05394431647611764,0.05748296968880667,0.06113410386032711,0.0648977258999971,0.06877384334738959,0.07276246444881808,0.07686359814578335],\"type\":\"scatter\"}],                        {\"template\":{\"data\":{\"histogram2dcontour\":[{\"type\":\"histogram2dcontour\",\"colorbar\":{\"outlinewidth\":0,\"ticks\":\"\"},\"colorscale\":[[0.0,\"#0d0887\"],[0.1111111111111111,\"#46039f\"],[0.2222222222222222,\"#7201a8\"],[0.3333333333333333,\"#9c179e\"],[0.4444444444444444,\"#bd3786\"],[0.5555555555555556,\"#d8576b\"],[0.6666666666666666,\"#ed7953\"],[0.7777777777777778,\"#fb9f3a\"],[0.8888888888888888,\"#fdca26\"],[1.0,\"#f0f921\"]]}],\"choropleth\":[{\"type\":\"choropleth\",\"colorbar\":{\"outlinewidth\":0,\"ticks\":\"\"}}],\"histogram2d\":[{\"type\":\"histogram2d\",\"colorbar\":{\"outlinewidth\":0,\"ticks\":\"\"},\"colorscale\":[[0.0,\"#0d0887\"],[0.1111111111111111,\"#46039f\"],[0.2222222222222222,\"#7201a8\"],[0.3333333333333333,\"#9c179e\"],[0.4444444444444444,\"#bd3786\"],[0.5555555555555556,\"#d8576b\"],[0.6666666666666666,\"#ed7953\"],[0.7777777777777778,\"#fb9f3a\"],[0.8888888888888888,\"#fdca26\"],[1.0,\"#f0f921\"]]}],\"heatmap\":[{\"type\":\"heatmap\",\"colorbar\":{\"outlinewidth\":0,\"ticks\":\"\"},\"colorscale\":[[0.0,\"#0d0887\"],[0.1111111111111111,\"#46039f\"],[0.2222222222222222,\"#7201a8\"],[0.3333333333333333,\"#9c179e\"],[0.4444444444444444,\"#bd3786\"],[0.5555555555555556,\"#d8576b\"],[0.6666666666666666,\"#ed7953\"],[0.7777777777777778,\"#fb9f3a\"],[0.8888888888888888,\"#fdca26\"],[1.0,\"#f0f921\"]]}],\"heatmapgl\":[{\"type\":\"heatmapgl\",\"colorbar\":{\"outlinewidth\":0,\"ticks\":\"\"},\"colorscale\":[[0.0,\"#0d0887\"],[0.1111111111111111,\"#46039f\"],[0.2222222222222222,\"#7201a8\"],[0.3333333333333333,\"#9c179e\"],[0.4444444444444444,\"#bd3786\"],[0.5555555555555556,\"#d8576b\"],[0.6666666666666666,\"#ed7953\"],[0.7777777777777778,\"#fb9f3a\"],[0.8888888888888888,\"#fdca26\"],[1.0,\"#f0f921\"]]}],\"contourcarpet\":[{\"type\":\"contourcarpet\",\"colorbar\":{\"outlinewidth\":0,\"ticks\":\"\"}}],\"contour\":[{\"type\":\"contour\",\"colorbar\":{\"outlinewidth\":0,\"ticks\":\"\"},\"colorscale\":[[0.0,\"#0d0887\"],[0.1111111111111111,\"#46039f\"],[0.2222222222222222,\"#7201a8\"],[0.3333333333333333,\"#9c179e\"],[0.4444444444444444,\"#bd3786\"],[0.5555555555555556,\"#d8576b\"],[0.6666666666666666,\"#ed7953\"],[0.7777777777777778,\"#fb9f3a\"],[0.8888888888888888,\"#fdca26\"],[1.0,\"#f0f921\"]]}],\"surface\":[{\"type\":\"surface\",\"colorbar\":{\"outlinewidth\":0,\"ticks\":\"\"},\"colorscale\":[[0.0,\"#0d0887\"],[0.1111111111111111,\"#46039f\"],[0.2222222222222222,\"#7201a8\"],[0.3333333333333333,\"#9c179e\"],[0.4444444444444444,\"#bd3786\"],[0.5555555555555556,\"#d8576b\"],[0.6666666666666666,\"#ed7953\"],[0.7777777777777778,\"#fb9f3a\"],[0.8888888888888888,\"#fdca26\"],[1.0,\"#f0f921\"]]}],\"mesh3d\":[{\"type\":\"mesh3d\",\"colorbar\":{\"outlinewidth\":0,\"ticks\":\"\"}}],\"scatter\":[{\"fillpattern\":{\"fillmode\":\"overlay\",\"size\":10,\"solidity\":0.2},\"type\":\"scatter\"}],\"parcoords\":[{\"type\":\"parcoords\",\"line\":{\"colorbar\":{\"outlinewidth\":0,\"ticks\":\"\"}}}],\"scatterpolargl\":[{\"type\":\"scatterpolargl\",\"marker\":{\"colorbar\":{\"outlinewidth\":0,\"ticks\":\"\"}}}],\"bar\":[{\"error_x\":{\"color\":\"#2a3f5f\"},\"error_y\":{\"color\":\"#2a3f5f\"},\"marker\":{\"line\":{\"color\":\"#E5ECF6\",\"width\":0.5},\"pattern\":{\"fillmode\":\"overlay\",\"size\":10,\"solidity\":0.2}},\"type\":\"bar\"}],\"scattergeo\":[{\"type\":\"scattergeo\",\"marker\":{\"colorbar\":{\"outlinewidth\":0,\"ticks\":\"\"}}}],\"scatterpolar\":[{\"type\":\"scatterpolar\",\"marker\":{\"colorbar\":{\"outlinewidth\":0,\"ticks\":\"\"}}}],\"histogram\":[{\"marker\":{\"pattern\":{\"fillmode\":\"overlay\",\"size\":10,\"solidity\":0.2}},\"type\":\"histogram\"}],\"scattergl\":[{\"type\":\"scattergl\",\"marker\":{\"colorbar\":{\"outlinewidth\":0,\"ticks\":\"\"}}}],\"scatter3d\":[{\"type\":\"scatter3d\",\"line\":{\"colorbar\":{\"outlinewidth\":0,\"ticks\":\"\"}},\"marker\":{\"colorbar\":{\"outlinewidth\":0,\"ticks\":\"\"}}}],\"scattermapbox\":[{\"type\":\"scattermapbox\",\"marker\":{\"colorbar\":{\"outlinewidth\":0,\"ticks\":\"\"}}}],\"scatterternary\":[{\"type\":\"scatterternary\",\"marker\":{\"colorbar\":{\"outlinewidth\":0,\"ticks\":\"\"}}}],\"scattercarpet\":[{\"type\":\"scattercarpet\",\"marker\":{\"colorbar\":{\"outlinewidth\":0,\"ticks\":\"\"}}}],\"carpet\":[{\"aaxis\":{\"endlinecolor\":\"#2a3f5f\",\"gridcolor\":\"white\",\"linecolor\":\"white\",\"minorgridcolor\":\"white\",\"startlinecolor\":\"#2a3f5f\"},\"baxis\":{\"endlinecolor\":\"#2a3f5f\",\"gridcolor\":\"white\",\"linecolor\":\"white\",\"minorgridcolor\":\"white\",\"startlinecolor\":\"#2a3f5f\"},\"type\":\"carpet\"}],\"table\":[{\"cells\":{\"fill\":{\"color\":\"#EBF0F8\"},\"line\":{\"color\":\"white\"}},\"header\":{\"fill\":{\"color\":\"#C8D4E3\"},\"line\":{\"color\":\"white\"}},\"type\":\"table\"}],\"barpolar\":[{\"marker\":{\"line\":{\"color\":\"#E5ECF6\",\"width\":0.5},\"pattern\":{\"fillmode\":\"overlay\",\"size\":10,\"solidity\":0.2}},\"type\":\"barpolar\"}],\"pie\":[{\"automargin\":true,\"type\":\"pie\"}]},\"layout\":{\"autotypenumbers\":\"strict\",\"colorway\":[\"#636efa\",\"#EF553B\",\"#00cc96\",\"#ab63fa\",\"#FFA15A\",\"#19d3f3\",\"#FF6692\",\"#B6E880\",\"#FF97FF\",\"#FECB52\"],\"font\":{\"color\":\"#2a3f5f\"},\"hovermode\":\"closest\",\"hoverlabel\":{\"align\":\"left\"},\"paper_bgcolor\":\"white\",\"plot_bgcolor\":\"#E5ECF6\",\"polar\":{\"bgcolor\":\"#E5ECF6\",\"angularaxis\":{\"gridcolor\":\"white\",\"linecolor\":\"white\",\"ticks\":\"\"},\"radialaxis\":{\"gridcolor\":\"white\",\"linecolor\":\"white\",\"ticks\":\"\"}},\"ternary\":{\"bgcolor\":\"#E5ECF6\",\"aaxis\":{\"gridcolor\":\"white\",\"linecolor\":\"white\",\"ticks\":\"\"},\"baxis\":{\"gridcolor\":\"white\",\"linecolor\":\"white\",\"ticks\":\"\"},\"caxis\":{\"gridcolor\":\"white\",\"linecolor\":\"white\",\"ticks\":\"\"}},\"coloraxis\":{\"colorbar\":{\"outlinewidth\":0,\"ticks\":\"\"}},\"colorscale\":{\"sequential\":[[0.0,\"#0d0887\"],[0.1111111111111111,\"#46039f\"],[0.2222222222222222,\"#7201a8\"],[0.3333333333333333,\"#9c179e\"],[0.4444444444444444,\"#bd3786\"],[0.5555555555555556,\"#d8576b\"],[0.6666666666666666,\"#ed7953\"],[0.7777777777777778,\"#fb9f3a\"],[0.8888888888888888,\"#fdca26\"],[1.0,\"#f0f921\"]],\"sequentialminus\":[[0.0,\"#0d0887\"],[0.1111111111111111,\"#46039f\"],[0.2222222222222222,\"#7201a8\"],[0.3333333333333333,\"#9c179e\"],[0.4444444444444444,\"#bd3786\"],[0.5555555555555556,\"#d8576b\"],[0.6666666666666666,\"#ed7953\"],[0.7777777777777778,\"#fb9f3a\"],[0.8888888888888888,\"#fdca26\"],[1.0,\"#f0f921\"]],\"diverging\":[[0,\"#8e0152\"],[0.1,\"#c51b7d\"],[0.2,\"#de77ae\"],[0.3,\"#f1b6da\"],[0.4,\"#fde0ef\"],[0.5,\"#f7f7f7\"],[0.6,\"#e6f5d0\"],[0.7,\"#b8e186\"],[0.8,\"#7fbc41\"],[0.9,\"#4d9221\"],[1,\"#276419\"]]},\"xaxis\":{\"gridcolor\":\"white\",\"linecolor\":\"white\",\"ticks\":\"\",\"title\":{\"standoff\":15},\"zerolinecolor\":\"white\",\"automargin\":true,\"zerolinewidth\":2},\"yaxis\":{\"gridcolor\":\"white\",\"linecolor\":\"white\",\"ticks\":\"\",\"title\":{\"standoff\":15},\"zerolinecolor\":\"white\",\"automargin\":true,\"zerolinewidth\":2},\"scene\":{\"xaxis\":{\"backgroundcolor\":\"#E5ECF6\",\"gridcolor\":\"white\",\"linecolor\":\"white\",\"showbackground\":true,\"ticks\":\"\",\"zerolinecolor\":\"white\",\"gridwidth\":2},\"yaxis\":{\"backgroundcolor\":\"#E5ECF6\",\"gridcolor\":\"white\",\"linecolor\":\"white\",\"showbackground\":true,\"ticks\":\"\",\"zerolinecolor\":\"white\",\"gridwidth\":2},\"zaxis\":{\"backgroundcolor\":\"#E5ECF6\",\"gridcolor\":\"white\",\"linecolor\":\"white\",\"showbackground\":true,\"ticks\":\"\",\"zerolinecolor\":\"white\",\"gridwidth\":2}},\"shapedefaults\":{\"line\":{\"color\":\"#2a3f5f\"}},\"annotationdefaults\":{\"arrowcolor\":\"#2a3f5f\",\"arrowhead\":0,\"arrowwidth\":1},\"geo\":{\"bgcolor\":\"white\",\"landcolor\":\"#E5ECF6\",\"subunitcolor\":\"white\",\"showland\":true,\"showlakes\":true,\"lakecolor\":\"white\"},\"title\":{\"x\":0.05},\"mapbox\":{\"style\":\"light\"}}}},                        {\"responsive\": true}                    ).then(function(){\n",
       "                            \n",
       "var gd = document.getElementById('42a50737-2d8b-45f3-aba0-1ae10e3c6cbf');\n",
       "var x = new MutationObserver(function (mutations, observer) {{\n",
       "        var display = window.getComputedStyle(gd).display;\n",
       "        if (!display || display === 'none') {{\n",
       "            console.log([gd, 'removed!']);\n",
       "            Plotly.purge(gd);\n",
       "            observer.disconnect();\n",
       "        }}\n",
       "}});\n",
       "\n",
       "// Listen for the removal of the full notebook cells\n",
       "var notebookContainer = gd.closest('#notebook-container');\n",
       "if (notebookContainer) {{\n",
       "    x.observe(notebookContainer, {childList: true});\n",
       "}}\n",
       "\n",
       "// Listen for the clearing of the current output cell\n",
       "var outputEl = gd.closest('.output');\n",
       "if (outputEl) {{\n",
       "    x.observe(outputEl, {childList: true});\n",
       "}}\n",
       "\n",
       "                        })                };                });            </script>        </div>"
      ]
     },
     "metadata": {},
     "output_type": "display_data"
    }
   ],
   "source": [
    "y_sumofpower = []\n",
    "for i in x_range:\n",
    "    y_sumofpower.append(cost_sumofpower([7.56e-05, i]))\n",
    "\n",
    "fig = go.Figure()\n",
    "fig.add_trace(\n",
    "    go.Scatter(\n",
    "        x=x_range,\n",
    "        y=np.asarray(y_RMSE) * np.sqrt(len(t_eval)),\n",
    "        mode=\"lines\",\n",
    "        name=\"RMSE*N\",\n",
    "    )\n",
    ")\n",
    "fig.add_trace(\n",
    "    go.Scatter(\n",
    "        x=x_range,\n",
    "        y=y_SSE,\n",
    "        mode=\"lines\",\n",
    "        line=dict(dash=\"dash\"),\n",
    "        name=\"SSE\",\n",
    "    )\n",
    ")\n",
    "fig.add_trace(\n",
    "    go.Scatter(\n",
    "        x=x_range,\n",
    "        y=y_sumofpower,\n",
    "        mode=\"lines\",\n",
    "        line=dict(dash=\"dot\"),\n",
    "        name=\"Sum of Power\",\n",
    "    )\n",
    ")\n",
    "fig.show()"
   ]
  },
  {
   "cell_type": "markdown",
   "metadata": {},
   "source": [
    "As expected, the `SumofPower` with order `p=2` equates to the `SSE` implementation. Next, we compare the `Minkowski` to the `SumofPower`,"
   ]
  },
  {
   "cell_type": "code",
   "execution_count": null,
   "metadata": {},
   "outputs": [],
   "source": [
    "p_orders = np.append(0.75, np.linspace(1, 2, 2))\n",
    "\n",
    "y_minkowski = tuple(\n",
    "    [pybop.Minkowski(problem, p=j)([7.56e-05, i]) for i in x_range] for j in p_orders\n",
    ")\n",
    "\n",
    "y_sumofpower = tuple(\n",
    "    [pybop.SumofPower(problem, p=j)([7.56e-05, i]) for i in x_range] for j in p_orders\n",
    ")"
   ]
  },
  {
   "cell_type": "code",
   "execution_count": null,
   "metadata": {},
   "outputs": [
    {
     "data": {
      "text/html": [
       "<div>                            <div id=\"8b82109b-de57-4607-8827-15d0a16cf99a\" class=\"plotly-graph-div\" style=\"height:525px; width:100%;\"></div>            <script type=\"text/javascript\">                require([\"plotly\"], function(Plotly) {                    window.PLOTLYENV=window.PLOTLYENV || {};                                    if (document.getElementById(\"8b82109b-de57-4607-8827-15d0a16cf99a\")) {                    Plotly.newPlot(                        \"8b82109b-de57-4607-8827-15d0a16cf99a\",                        [{\"mode\":\"lines\",\"name\":\"Minkowski 0.75\",\"x\":[4.72e-06,4.733513513513514e-06,4.747027027027027e-06,4.7605405405405405e-06,4.7740540540540536e-06,4.7875675675675674e-06,4.8010810810810805e-06,4.814594594594594e-06,4.828108108108108e-06,4.841621621621621e-06,4.855135135135135e-06,4.868648648648648e-06,4.882162162162162e-06,4.895675675675675e-06,4.909189189189189e-06,4.922702702702703e-06,4.936216216216216e-06,4.94972972972973e-06,4.963243243243243e-06,4.976756756756757e-06,4.99027027027027e-06,5.003783783783784e-06,5.017297297297298e-06,5.030810810810811e-06,5.0443243243243245e-06,5.057837837837838e-06,5.0713513513513515e-06,5.0848648648648645e-06,5.098378378378378e-06,5.1118918918918914e-06,5.125405405405405e-06,5.138918918918919e-06,5.152432432432432e-06,5.165945945945946e-06,5.179459459459459e-06,5.192972972972973e-06,5.206486486486487e-06,5.22e-06,5.233513513513514e-06,5.247027027027027e-06,5.260540540540541e-06,5.274054054054054e-06,5.287567567567568e-06,5.301081081081081e-06,5.314594594594595e-06,5.3281081081081086e-06,5.341621621621622e-06,5.3551351351351355e-06,5.3686486486486485e-06,5.382162162162162e-06,5.3956756756756755e-06,5.409189189189189e-06,5.422702702702702e-06,5.436216216216216e-06,5.44972972972973e-06,5.463243243243243e-06,5.476756756756757e-06,5.49027027027027e-06,5.503783783783784e-06,5.517297297297298e-06,5.530810810810811e-06,5.544324324324325e-06,5.557837837837838e-06,5.571351351351352e-06,5.584864864864865e-06,5.598378378378379e-06,5.611891891891892e-06,5.625405405405406e-06,5.6389189189189195e-06,5.6524324324324325e-06,5.6659459459459464e-06,5.6794594594594595e-06,5.692972972972973e-06,5.706486486486487e-06,5.72e-06],\"y\":[40.32126511174296,39.24100595474458,38.160104652624476,37.07857330715338,35.99642188607302,34.913662238053895,33.83030538176678,32.74636211840433,31.661843109064506,30.576758848825236,29.491119718399414,28.404935867759114,27.318217303863506,26.23097386380408,25.14321525040424,24.054950986617605,22.966190450268275,21.876942793539005,20.78721706957879,19.697022191760997,18.60636688037579,17.515259540188946,16.42370865347883,15.331722482083881,14.239309077529368,13.146476351583857,12.053232038157184,10.959583730691858,9.865538854470012,8.771104680552305,7.676288323232835,6.581096747158728,5.4855367294271895,4.389614896208983,3.293337739016651,2.1967114576354945,1.0997417651252752,0.0018278840575656195,1.0951963518543755,2.1931589238882143,3.291440489070055,4.39003610739826,5.488940626288824,6.588148954440822,7.687656149712737,8.787457406772498,9.887548067900484,10.98792362287857,12.088579708116166,13.189512111120028,14.290716755949724,15.39218969816664,16.493927141600544,17.59592543839334,18.69818108244882,19.800690705932567,20.903451074272475,22.00645907633469,23.10971175891271,24.21320634205903,25.316940166560446,26.42091070270004,27.525115541904704,28.629552413852128,29.734219186190202,30.8391138558783,31.94423454657418,33.04957951609085,34.155147151411555,35.26093599327714,36.36694466000831,37.47317192106809,38.5796166825535,39.68627799839473,40.79315496993598],\"type\":\"scatter\"},{\"line\":{\"dash\":\"dash\"},\"mode\":\"lines\",\"name\":\"Sum of Power 0.75\",\"x\":[4.72e-06,4.733513513513514e-06,4.747027027027027e-06,4.7605405405405405e-06,4.7740540540540536e-06,4.7875675675675674e-06,4.8010810810810805e-06,4.814594594594594e-06,4.828108108108108e-06,4.841621621621621e-06,4.855135135135135e-06,4.868648648648648e-06,4.882162162162162e-06,4.895675675675675e-06,4.909189189189189e-06,4.922702702702703e-06,4.936216216216216e-06,4.94972972972973e-06,4.963243243243243e-06,4.976756756756757e-06,4.99027027027027e-06,5.003783783783784e-06,5.017297297297298e-06,5.030810810810811e-06,5.0443243243243245e-06,5.057837837837838e-06,5.0713513513513515e-06,5.0848648648648645e-06,5.098378378378378e-06,5.1118918918918914e-06,5.125405405405405e-06,5.138918918918919e-06,5.152432432432432e-06,5.165945945945946e-06,5.179459459459459e-06,5.192972972972973e-06,5.206486486486487e-06,5.22e-06,5.233513513513514e-06,5.247027027027027e-06,5.260540540540541e-06,5.274054054054054e-06,5.287567567567568e-06,5.301081081081081e-06,5.314594594594595e-06,5.3281081081081086e-06,5.341621621621622e-06,5.3551351351351355e-06,5.3686486486486485e-06,5.382162162162162e-06,5.3956756756756755e-06,5.409189189189189e-06,5.422702702702702e-06,5.436216216216216e-06,5.44972972972973e-06,5.463243243243243e-06,5.476756756756757e-06,5.49027027027027e-06,5.503783783783784e-06,5.517297297297298e-06,5.530810810810811e-06,5.544324324324325e-06,5.557837837837838e-06,5.571351351351352e-06,5.584864864864865e-06,5.598378378378379e-06,5.611891891891892e-06,5.625405405405406e-06,5.6389189189189195e-06,5.6524324324324325e-06,5.6659459459459464e-06,5.6794594594594595e-06,5.692972972972973e-06,5.706486486486487e-06,5.72e-06],\"y\":[16.00112848456034,15.678521254718182,15.353492027123558,15.02596114229052,14.695842873916819,14.36304610685758,14.027472907796419,13.689018015483429,13.34756807177828,13.003000704220065,12.6551834944373,12.30397272706526,11.949212003989452,11.590730580554844,11.228341427301636,10.861838902345376,10.490996000509309,10.115561000228428,9.735253469045755,9.349759302348154,8.95872457806839,8.5617478383177,8.158370499659078,7.748064227658934,7.330214572978253,6.904099209228464,6.468858298870991,6.0234532535564425,5.5666076039461965,5.096719359014428,4.611725602978683,4.108882352217861,3.584382476661644,3.0326327153353874,2.444709178947751,1.8043872988660952,1.073910377219176,0.008840187648510626,1.0705796684168942,1.8021983074172179,2.4436528284889447,3.0328509628710907,3.5860504887559004,4.112184173880252,4.616846788727882,5.103844389236297,5.575918995050634,6.035131313306215,6.483081165493161,6.9210430120610225,7.3500536418924565,7.770971305691933,8.184516976705638,8.591303962592214,8.991859680550302,9.386642010749352,9.776051802707016,10.16044259280087,10.54012827907156,10.915389243412148,11.286477273095644,11.653619594064006,12.017022187026443,12.376872549526652,12.733342002880422,13.086587634353133,13.436753946992258,13.783974271388956,14.12837197430624,14.470061510975874,14.809149307842453,15.145734575312655,15.479909994444656,15.811762327756009,16.141372925191604],\"type\":\"scatter\"},{\"mode\":\"lines\",\"name\":\"Minkowski 1.0\",\"x\":[4.72e-06,4.733513513513514e-06,4.747027027027027e-06,4.7605405405405405e-06,4.7740540540540536e-06,4.7875675675675674e-06,4.8010810810810805e-06,4.814594594594594e-06,4.828108108108108e-06,4.841621621621621e-06,4.855135135135135e-06,4.868648648648648e-06,4.882162162162162e-06,4.895675675675675e-06,4.909189189189189e-06,4.922702702702703e-06,4.936216216216216e-06,4.94972972972973e-06,4.963243243243243e-06,4.976756756756757e-06,4.99027027027027e-06,5.003783783783784e-06,5.017297297297298e-06,5.030810810810811e-06,5.0443243243243245e-06,5.057837837837838e-06,5.0713513513513515e-06,5.0848648648648645e-06,5.098378378378378e-06,5.1118918918918914e-06,5.125405405405405e-06,5.138918918918919e-06,5.152432432432432e-06,5.165945945945946e-06,5.179459459459459e-06,5.192972972972973e-06,5.206486486486487e-06,5.22e-06,5.233513513513514e-06,5.247027027027027e-06,5.260540540540541e-06,5.274054054054054e-06,5.287567567567568e-06,5.301081081081081e-06,5.314594594594595e-06,5.3281081081081086e-06,5.341621621621622e-06,5.3551351351351355e-06,5.3686486486486485e-06,5.382162162162162e-06,5.3956756756756755e-06,5.409189189189189e-06,5.422702702702702e-06,5.436216216216216e-06,5.44972972972973e-06,5.463243243243243e-06,5.476756756756757e-06,5.49027027027027e-06,5.503783783783784e-06,5.517297297297298e-06,5.530810810810811e-06,5.544324324324325e-06,5.557837837837838e-06,5.571351351351352e-06,5.584864864864865e-06,5.598378378378379e-06,5.611891891891892e-06,5.625405405405406e-06,5.6389189189189195e-06,5.6524324324324325e-06,5.6659459459459464e-06,5.6794594594594595e-06,5.692972972972973e-06,5.706486486486487e-06,5.72e-06],\"y\":[5.413107215953675,5.267998434744355,5.122807209684625,4.97753526936318,4.83218404389941,4.686755224103176,4.541250382975507,4.395671061735861,4.25001878089312,4.104295036377762,3.958501306824469,3.8126390370710466,3.666709650762019,3.5207145464600704,3.374655102633723,3.228532671276353,3.0823485827777355,2.9361041351481054,2.7898006112151212,2.6434392721645916,2.4970213515514548,2.350548041659293,2.2040205369153822,2.0574400025351545,1.9108075737930164,1.7641243653458463,1.617391465923887,1.4706099434223634,1.3237808413147598,1.1769051801930686,1.0299839579803631,0.8830181506515409,0.7360087074765458,0.5889565564827026,0.44186260825041224,0.2947277406252584,0.14755281519429886,0.000363684072683057,0.14691388544478556,0.2942040536643904,0.44153106714240486,0.5888941762491813,0.7362926562282679,0.8837258015516909,1.0311929298406253,1.1786933802676853,1.3262265139493103,1.4737917137231653,1.6213883839171022,1.7690159506786056,1.9166738602767706,2.064361578435122,2.2120785926579014,2.359824411747139,2.5075985651525294,2.6554006024802597,2.803230092785371,2.951086623078154,3.0989698033094437,3.2468792684577705,3.394814671083145,3.542775682701895,3.690761992484801,3.8387733096601555,3.9868093634543613,4.134869901883708,4.282954691512092,4.43106351830154,4.5791961869795195,4.727352523366823,4.875532366970115,5.023735578084726,5.171962036446825,5.320211642177285,5.468484305620349],\"type\":\"scatter\"},{\"line\":{\"dash\":\"dash\"},\"mode\":\"lines\",\"name\":\"Sum of Power 1.0\",\"x\":[4.72e-06,4.733513513513514e-06,4.747027027027027e-06,4.7605405405405405e-06,4.7740540540540536e-06,4.7875675675675674e-06,4.8010810810810805e-06,4.814594594594594e-06,4.828108108108108e-06,4.841621621621621e-06,4.855135135135135e-06,4.868648648648648e-06,4.882162162162162e-06,4.895675675675675e-06,4.909189189189189e-06,4.922702702702703e-06,4.936216216216216e-06,4.94972972972973e-06,4.963243243243243e-06,4.976756756756757e-06,4.99027027027027e-06,5.003783783783784e-06,5.017297297297298e-06,5.030810810810811e-06,5.0443243243243245e-06,5.057837837837838e-06,5.0713513513513515e-06,5.0848648648648645e-06,5.098378378378378e-06,5.1118918918918914e-06,5.125405405405405e-06,5.138918918918919e-06,5.152432432432432e-06,5.165945945945946e-06,5.179459459459459e-06,5.192972972972973e-06,5.206486486486487e-06,5.22e-06,5.233513513513514e-06,5.247027027027027e-06,5.260540540540541e-06,5.274054054054054e-06,5.287567567567568e-06,5.301081081081081e-06,5.314594594594595e-06,5.3281081081081086e-06,5.341621621621622e-06,5.3551351351351355e-06,5.3686486486486485e-06,5.382162162162162e-06,5.3956756756756755e-06,5.409189189189189e-06,5.422702702702702e-06,5.436216216216216e-06,5.44972972972973e-06,5.463243243243243e-06,5.476756756756757e-06,5.49027027027027e-06,5.503783783783784e-06,5.517297297297298e-06,5.530810810810811e-06,5.544324324324325e-06,5.557837837837838e-06,5.571351351351352e-06,5.584864864864865e-06,5.598378378378379e-06,5.611891891891892e-06,5.625405405405406e-06,5.6389189189189195e-06,5.6524324324324325e-06,5.6659459459459464e-06,5.6794594594594595e-06,5.692972972972973e-06,5.706486486486487e-06,5.72e-06],\"y\":[5.413107215953675,5.267998434744355,5.122807209684625,4.97753526936318,4.83218404389941,4.686755224103176,4.541250382975507,4.395671061735861,4.25001878089312,4.104295036377762,3.958501306824469,3.8126390370710466,3.666709650762019,3.5207145464600704,3.374655102633723,3.228532671276353,3.0823485827777355,2.9361041351481054,2.7898006112151212,2.6434392721645916,2.4970213515514548,2.350548041659293,2.2040205369153822,2.0574400025351545,1.9108075737930164,1.7641243653458463,1.617391465923887,1.4706099434223634,1.3237808413147598,1.1769051801930686,1.0299839579803631,0.8830181506515409,0.7360087074765458,0.5889565564827026,0.44186260825041224,0.2947277406252584,0.14755281519429886,0.000363684072683057,0.14691388544478556,0.2942040536643904,0.44153106714240486,0.5888941762491813,0.7362926562282679,0.8837258015516909,1.0311929298406253,1.1786933802676853,1.3262265139493103,1.4737917137231653,1.6213883839171022,1.7690159506786056,1.9166738602767706,2.064361578435122,2.2120785926579014,2.359824411747139,2.5075985651525294,2.6554006024802597,2.803230092785371,2.951086623078154,3.0989698033094437,3.2468792684577705,3.394814671083145,3.542775682701895,3.690761992484801,3.8387733096601555,3.9868093634543613,4.134869901883708,4.282954691512092,4.43106351830154,4.5791961869795195,4.727352523366823,4.875532366970115,5.023735578084726,5.171962036446825,5.320211642177285,5.468484305620349],\"type\":\"scatter\"},{\"mode\":\"lines\",\"name\":\"Minkowski 2.0\",\"x\":[4.72e-06,4.733513513513514e-06,4.747027027027027e-06,4.7605405405405405e-06,4.7740540540540536e-06,4.7875675675675674e-06,4.8010810810810805e-06,4.814594594594594e-06,4.828108108108108e-06,4.841621621621621e-06,4.855135135135135e-06,4.868648648648648e-06,4.882162162162162e-06,4.895675675675675e-06,4.909189189189189e-06,4.922702702702703e-06,4.936216216216216e-06,4.94972972972973e-06,4.963243243243243e-06,4.976756756756757e-06,4.99027027027027e-06,5.003783783783784e-06,5.017297297297298e-06,5.030810810810811e-06,5.0443243243243245e-06,5.057837837837838e-06,5.0713513513513515e-06,5.0848648648648645e-06,5.098378378378378e-06,5.1118918918918914e-06,5.125405405405405e-06,5.138918918918919e-06,5.152432432432432e-06,5.165945945945946e-06,5.179459459459459e-06,5.192972972972973e-06,5.206486486486487e-06,5.22e-06,5.233513513513514e-06,5.247027027027027e-06,5.260540540540541e-06,5.274054054054054e-06,5.287567567567568e-06,5.301081081081081e-06,5.314594594594595e-06,5.3281081081081086e-06,5.341621621621622e-06,5.3551351351351355e-06,5.3686486486486485e-06,5.382162162162162e-06,5.3956756756756755e-06,5.409189189189189e-06,5.422702702702702e-06,5.436216216216216e-06,5.44972972972973e-06,5.463243243243243e-06,5.476756756756757e-06,5.49027027027027e-06,5.503783783783784e-06,5.517297297297298e-06,5.530810810810811e-06,5.544324324324325e-06,5.557837837837838e-06,5.571351351351352e-06,5.584864864864865e-06,5.598378378378379e-06,5.611891891891892e-06,5.625405405405406e-06,5.6389189189189195e-06,5.6524324324324325e-06,5.6659459459459464e-06,5.6794594594594595e-06,5.692972972972973e-06,5.706486486486487e-06,5.72e-06],\"y\":[0.27600306125917107,0.2685842896554004,0.2611623483706122,0.25373733511944113,0.2463093310574422,0.23887843142600185,0.23144472470880367,0.2240082974231677,0.21656923476415235,0.20912762036543267,0.20168353671475292,0.19423706419240244,0.1867882818393598,0.1793372671106685,0.17188409615702263,0.16442884346763234,0.15697158214347753,0.14951238337164668,0.1420513172891627,0.1345884525835885,0.12712385628987044,0.11965759340623754,0.11218972809671131,0.10472032302835843,0.09724943910663052,0.08977713594393189,0.0823034715662484,0.07482850267451274,0.06735228448654913,0.05987487077846816,0.052396313966540986,0.04491666511715818,0.037435973779315596,0.029954288366785656,0.022471656691048548,0.014988126487082483,0.007503755508562616,3.428331968229087e-05,0.007467562792241588,0.014954262426377884,0.022441678744990676,0.029929760765290015,0.037418470193262936,0.04490777187208018,0.052397632481755364,0.05988802028420021,0.06737890496940459,0.07487025760348187,0.08236205059396633,0.08985425767385659,0.0973468538300423,0.1048398152936118,0.1123331196349985,0.1198267457045398,0.12732067361920504,0.13481488473571773,0.14230936161018726,0.14980408790036814,0.15729904865416677,0.1647942304338377,0.17228962088263494,0.1797852088230149,0.18728098416420955,0.19477693803759882,0.2022730627909221,0.20976935192341228,0.2172658000908551,0.2247624031237346,0.2322591580026881,0.2397560628822693,0.247253116988092,0.2547503207063675,0.2622476755805275,0.2697451842921724,0.2772428504863261],\"type\":\"scatter\"},{\"line\":{\"dash\":\"dash\"},\"mode\":\"lines\",\"name\":\"Sum of Power 2.0\",\"x\":[4.72e-06,4.733513513513514e-06,4.747027027027027e-06,4.7605405405405405e-06,4.7740540540540536e-06,4.7875675675675674e-06,4.8010810810810805e-06,4.814594594594594e-06,4.828108108108108e-06,4.841621621621621e-06,4.855135135135135e-06,4.868648648648648e-06,4.882162162162162e-06,4.895675675675675e-06,4.909189189189189e-06,4.922702702702703e-06,4.936216216216216e-06,4.94972972972973e-06,4.963243243243243e-06,4.976756756756757e-06,4.99027027027027e-06,5.003783783783784e-06,5.017297297297298e-06,5.030810810810811e-06,5.0443243243243245e-06,5.057837837837838e-06,5.0713513513513515e-06,5.0848648648648645e-06,5.098378378378378e-06,5.1118918918918914e-06,5.125405405405405e-06,5.138918918918919e-06,5.152432432432432e-06,5.165945945945946e-06,5.179459459459459e-06,5.192972972972973e-06,5.206486486486487e-06,5.22e-06,5.233513513513514e-06,5.247027027027027e-06,5.260540540540541e-06,5.274054054054054e-06,5.287567567567568e-06,5.301081081081081e-06,5.314594594594595e-06,5.3281081081081086e-06,5.341621621621622e-06,5.3551351351351355e-06,5.3686486486486485e-06,5.382162162162162e-06,5.3956756756756755e-06,5.409189189189189e-06,5.422702702702702e-06,5.436216216216216e-06,5.44972972972973e-06,5.463243243243243e-06,5.476756756756757e-06,5.49027027027027e-06,5.503783783783784e-06,5.517297297297298e-06,5.530810810810811e-06,5.544324324324325e-06,5.557837837837838e-06,5.571351351351352e-06,5.584864864864865e-06,5.598378378378379e-06,5.611891891891892e-06,5.625405405405406e-06,5.6389189189189195e-06,5.6524324324324325e-06,5.6659459459459464e-06,5.6794594594594595e-06,5.692972972972973e-06,5.706486486486487e-06,5.72e-06],\"y\":[0.07617768982443374,0.072137520649696,0.06820577220645302,0.06438263523351556,0.060668286565964666,0.057062905000547066,0.053566660595533916,0.05017971731442636,0.04690223344633054,0.04373436159970853,0.040676248981771086,0.03772803710608347,0.03488986223250011,0.03216185537472326,0.0295441425117166,0.02703684456410314,0.024640077600626517,0.02235395278147025,0.020178576743586377,0.018114051568844852,0.016160474838007633,0.01431793965977246,0.012586535090414016,0.010966346055163737,0.009457453406554236,0.008059934138295227,0.006773861431856258,0.005599304812509562,0.004536330225557048,0.003585000150738261,0.0027453737172803377,0.0020175068052469347,0.0014014521328056047,0.0008972593915605506,0.000504975354440347,0.00022464393559278351,5.63063467322838e-05,1.1753460084381524e-09,5.576449405607098e-05,0.00022362996471697735,0.0005036289448933663,0.0008957905794674936,0.0014001419116041068,0.0020167079745147956,0.0027455118896931047,0.0035865749735607758,0.004539916834876055,0.005605555473611734,0.0067835073780430685,0.008073787622119815,0.00947640995060762,0.01099138687079864,0.012618729766930886,0.014358448986140448,0.016210553930848134,0.01817505314630486,0.020251954401899037,0.02244126475166123,0.02474299070750593,0.0271571383842808,0.02968371346388208,0.032322721311535074,0.03507416702951491,0.037938055591302616,0.04091439193082032,0.044003181006368394,0.04720442788911942,0.05051813785795618,0.05394431647611764,0.05748296968880667,0.06113410386032711,0.0648977258999971,0.06877384334738959,0.07276246444881808,0.07686359814578335],\"type\":\"scatter\"}],                        {\"template\":{\"data\":{\"histogram2dcontour\":[{\"type\":\"histogram2dcontour\",\"colorbar\":{\"outlinewidth\":0,\"ticks\":\"\"},\"colorscale\":[[0.0,\"#0d0887\"],[0.1111111111111111,\"#46039f\"],[0.2222222222222222,\"#7201a8\"],[0.3333333333333333,\"#9c179e\"],[0.4444444444444444,\"#bd3786\"],[0.5555555555555556,\"#d8576b\"],[0.6666666666666666,\"#ed7953\"],[0.7777777777777778,\"#fb9f3a\"],[0.8888888888888888,\"#fdca26\"],[1.0,\"#f0f921\"]]}],\"choropleth\":[{\"type\":\"choropleth\",\"colorbar\":{\"outlinewidth\":0,\"ticks\":\"\"}}],\"histogram2d\":[{\"type\":\"histogram2d\",\"colorbar\":{\"outlinewidth\":0,\"ticks\":\"\"},\"colorscale\":[[0.0,\"#0d0887\"],[0.1111111111111111,\"#46039f\"],[0.2222222222222222,\"#7201a8\"],[0.3333333333333333,\"#9c179e\"],[0.4444444444444444,\"#bd3786\"],[0.5555555555555556,\"#d8576b\"],[0.6666666666666666,\"#ed7953\"],[0.7777777777777778,\"#fb9f3a\"],[0.8888888888888888,\"#fdca26\"],[1.0,\"#f0f921\"]]}],\"heatmap\":[{\"type\":\"heatmap\",\"colorbar\":{\"outlinewidth\":0,\"ticks\":\"\"},\"colorscale\":[[0.0,\"#0d0887\"],[0.1111111111111111,\"#46039f\"],[0.2222222222222222,\"#7201a8\"],[0.3333333333333333,\"#9c179e\"],[0.4444444444444444,\"#bd3786\"],[0.5555555555555556,\"#d8576b\"],[0.6666666666666666,\"#ed7953\"],[0.7777777777777778,\"#fb9f3a\"],[0.8888888888888888,\"#fdca26\"],[1.0,\"#f0f921\"]]}],\"heatmapgl\":[{\"type\":\"heatmapgl\",\"colorbar\":{\"outlinewidth\":0,\"ticks\":\"\"},\"colorscale\":[[0.0,\"#0d0887\"],[0.1111111111111111,\"#46039f\"],[0.2222222222222222,\"#7201a8\"],[0.3333333333333333,\"#9c179e\"],[0.4444444444444444,\"#bd3786\"],[0.5555555555555556,\"#d8576b\"],[0.6666666666666666,\"#ed7953\"],[0.7777777777777778,\"#fb9f3a\"],[0.8888888888888888,\"#fdca26\"],[1.0,\"#f0f921\"]]}],\"contourcarpet\":[{\"type\":\"contourcarpet\",\"colorbar\":{\"outlinewidth\":0,\"ticks\":\"\"}}],\"contour\":[{\"type\":\"contour\",\"colorbar\":{\"outlinewidth\":0,\"ticks\":\"\"},\"colorscale\":[[0.0,\"#0d0887\"],[0.1111111111111111,\"#46039f\"],[0.2222222222222222,\"#7201a8\"],[0.3333333333333333,\"#9c179e\"],[0.4444444444444444,\"#bd3786\"],[0.5555555555555556,\"#d8576b\"],[0.6666666666666666,\"#ed7953\"],[0.7777777777777778,\"#fb9f3a\"],[0.8888888888888888,\"#fdca26\"],[1.0,\"#f0f921\"]]}],\"surface\":[{\"type\":\"surface\",\"colorbar\":{\"outlinewidth\":0,\"ticks\":\"\"},\"colorscale\":[[0.0,\"#0d0887\"],[0.1111111111111111,\"#46039f\"],[0.2222222222222222,\"#7201a8\"],[0.3333333333333333,\"#9c179e\"],[0.4444444444444444,\"#bd3786\"],[0.5555555555555556,\"#d8576b\"],[0.6666666666666666,\"#ed7953\"],[0.7777777777777778,\"#fb9f3a\"],[0.8888888888888888,\"#fdca26\"],[1.0,\"#f0f921\"]]}],\"mesh3d\":[{\"type\":\"mesh3d\",\"colorbar\":{\"outlinewidth\":0,\"ticks\":\"\"}}],\"scatter\":[{\"fillpattern\":{\"fillmode\":\"overlay\",\"size\":10,\"solidity\":0.2},\"type\":\"scatter\"}],\"parcoords\":[{\"type\":\"parcoords\",\"line\":{\"colorbar\":{\"outlinewidth\":0,\"ticks\":\"\"}}}],\"scatterpolargl\":[{\"type\":\"scatterpolargl\",\"marker\":{\"colorbar\":{\"outlinewidth\":0,\"ticks\":\"\"}}}],\"bar\":[{\"error_x\":{\"color\":\"#2a3f5f\"},\"error_y\":{\"color\":\"#2a3f5f\"},\"marker\":{\"line\":{\"color\":\"#E5ECF6\",\"width\":0.5},\"pattern\":{\"fillmode\":\"overlay\",\"size\":10,\"solidity\":0.2}},\"type\":\"bar\"}],\"scattergeo\":[{\"type\":\"scattergeo\",\"marker\":{\"colorbar\":{\"outlinewidth\":0,\"ticks\":\"\"}}}],\"scatterpolar\":[{\"type\":\"scatterpolar\",\"marker\":{\"colorbar\":{\"outlinewidth\":0,\"ticks\":\"\"}}}],\"histogram\":[{\"marker\":{\"pattern\":{\"fillmode\":\"overlay\",\"size\":10,\"solidity\":0.2}},\"type\":\"histogram\"}],\"scattergl\":[{\"type\":\"scattergl\",\"marker\":{\"colorbar\":{\"outlinewidth\":0,\"ticks\":\"\"}}}],\"scatter3d\":[{\"type\":\"scatter3d\",\"line\":{\"colorbar\":{\"outlinewidth\":0,\"ticks\":\"\"}},\"marker\":{\"colorbar\":{\"outlinewidth\":0,\"ticks\":\"\"}}}],\"scattermapbox\":[{\"type\":\"scattermapbox\",\"marker\":{\"colorbar\":{\"outlinewidth\":0,\"ticks\":\"\"}}}],\"scatterternary\":[{\"type\":\"scatterternary\",\"marker\":{\"colorbar\":{\"outlinewidth\":0,\"ticks\":\"\"}}}],\"scattercarpet\":[{\"type\":\"scattercarpet\",\"marker\":{\"colorbar\":{\"outlinewidth\":0,\"ticks\":\"\"}}}],\"carpet\":[{\"aaxis\":{\"endlinecolor\":\"#2a3f5f\",\"gridcolor\":\"white\",\"linecolor\":\"white\",\"minorgridcolor\":\"white\",\"startlinecolor\":\"#2a3f5f\"},\"baxis\":{\"endlinecolor\":\"#2a3f5f\",\"gridcolor\":\"white\",\"linecolor\":\"white\",\"minorgridcolor\":\"white\",\"startlinecolor\":\"#2a3f5f\"},\"type\":\"carpet\"}],\"table\":[{\"cells\":{\"fill\":{\"color\":\"#EBF0F8\"},\"line\":{\"color\":\"white\"}},\"header\":{\"fill\":{\"color\":\"#C8D4E3\"},\"line\":{\"color\":\"white\"}},\"type\":\"table\"}],\"barpolar\":[{\"marker\":{\"line\":{\"color\":\"#E5ECF6\",\"width\":0.5},\"pattern\":{\"fillmode\":\"overlay\",\"size\":10,\"solidity\":0.2}},\"type\":\"barpolar\"}],\"pie\":[{\"automargin\":true,\"type\":\"pie\"}]},\"layout\":{\"autotypenumbers\":\"strict\",\"colorway\":[\"#636efa\",\"#EF553B\",\"#00cc96\",\"#ab63fa\",\"#FFA15A\",\"#19d3f3\",\"#FF6692\",\"#B6E880\",\"#FF97FF\",\"#FECB52\"],\"font\":{\"color\":\"#2a3f5f\"},\"hovermode\":\"closest\",\"hoverlabel\":{\"align\":\"left\"},\"paper_bgcolor\":\"white\",\"plot_bgcolor\":\"#E5ECF6\",\"polar\":{\"bgcolor\":\"#E5ECF6\",\"angularaxis\":{\"gridcolor\":\"white\",\"linecolor\":\"white\",\"ticks\":\"\"},\"radialaxis\":{\"gridcolor\":\"white\",\"linecolor\":\"white\",\"ticks\":\"\"}},\"ternary\":{\"bgcolor\":\"#E5ECF6\",\"aaxis\":{\"gridcolor\":\"white\",\"linecolor\":\"white\",\"ticks\":\"\"},\"baxis\":{\"gridcolor\":\"white\",\"linecolor\":\"white\",\"ticks\":\"\"},\"caxis\":{\"gridcolor\":\"white\",\"linecolor\":\"white\",\"ticks\":\"\"}},\"coloraxis\":{\"colorbar\":{\"outlinewidth\":0,\"ticks\":\"\"}},\"colorscale\":{\"sequential\":[[0.0,\"#0d0887\"],[0.1111111111111111,\"#46039f\"],[0.2222222222222222,\"#7201a8\"],[0.3333333333333333,\"#9c179e\"],[0.4444444444444444,\"#bd3786\"],[0.5555555555555556,\"#d8576b\"],[0.6666666666666666,\"#ed7953\"],[0.7777777777777778,\"#fb9f3a\"],[0.8888888888888888,\"#fdca26\"],[1.0,\"#f0f921\"]],\"sequentialminus\":[[0.0,\"#0d0887\"],[0.1111111111111111,\"#46039f\"],[0.2222222222222222,\"#7201a8\"],[0.3333333333333333,\"#9c179e\"],[0.4444444444444444,\"#bd3786\"],[0.5555555555555556,\"#d8576b\"],[0.6666666666666666,\"#ed7953\"],[0.7777777777777778,\"#fb9f3a\"],[0.8888888888888888,\"#fdca26\"],[1.0,\"#f0f921\"]],\"diverging\":[[0,\"#8e0152\"],[0.1,\"#c51b7d\"],[0.2,\"#de77ae\"],[0.3,\"#f1b6da\"],[0.4,\"#fde0ef\"],[0.5,\"#f7f7f7\"],[0.6,\"#e6f5d0\"],[0.7,\"#b8e186\"],[0.8,\"#7fbc41\"],[0.9,\"#4d9221\"],[1,\"#276419\"]]},\"xaxis\":{\"gridcolor\":\"white\",\"linecolor\":\"white\",\"ticks\":\"\",\"title\":{\"standoff\":15},\"zerolinecolor\":\"white\",\"automargin\":true,\"zerolinewidth\":2},\"yaxis\":{\"gridcolor\":\"white\",\"linecolor\":\"white\",\"ticks\":\"\",\"title\":{\"standoff\":15},\"zerolinecolor\":\"white\",\"automargin\":true,\"zerolinewidth\":2},\"scene\":{\"xaxis\":{\"backgroundcolor\":\"#E5ECF6\",\"gridcolor\":\"white\",\"linecolor\":\"white\",\"showbackground\":true,\"ticks\":\"\",\"zerolinecolor\":\"white\",\"gridwidth\":2},\"yaxis\":{\"backgroundcolor\":\"#E5ECF6\",\"gridcolor\":\"white\",\"linecolor\":\"white\",\"showbackground\":true,\"ticks\":\"\",\"zerolinecolor\":\"white\",\"gridwidth\":2},\"zaxis\":{\"backgroundcolor\":\"#E5ECF6\",\"gridcolor\":\"white\",\"linecolor\":\"white\",\"showbackground\":true,\"ticks\":\"\",\"zerolinecolor\":\"white\",\"gridwidth\":2}},\"shapedefaults\":{\"line\":{\"color\":\"#2a3f5f\"}},\"annotationdefaults\":{\"arrowcolor\":\"#2a3f5f\",\"arrowhead\":0,\"arrowwidth\":1},\"geo\":{\"bgcolor\":\"white\",\"landcolor\":\"#E5ECF6\",\"subunitcolor\":\"white\",\"showland\":true,\"showlakes\":true,\"lakecolor\":\"white\"},\"title\":{\"x\":0.05},\"mapbox\":{\"style\":\"light\"}}},\"yaxis\":{\"range\":[0,2.5]}},                        {\"responsive\": true}                    ).then(function(){\n",
       "                            \n",
       "var gd = document.getElementById('8b82109b-de57-4607-8827-15d0a16cf99a');\n",
       "var x = new MutationObserver(function (mutations, observer) {{\n",
       "        var display = window.getComputedStyle(gd).display;\n",
       "        if (!display || display === 'none') {{\n",
       "            console.log([gd, 'removed!']);\n",
       "            Plotly.purge(gd);\n",
       "            observer.disconnect();\n",
       "        }}\n",
       "}});\n",
       "\n",
       "// Listen for the removal of the full notebook cells\n",
       "var notebookContainer = gd.closest('#notebook-container');\n",
       "if (notebookContainer) {{\n",
       "    x.observe(notebookContainer, {childList: true});\n",
       "}}\n",
       "\n",
       "// Listen for the clearing of the current output cell\n",
       "var outputEl = gd.closest('.output');\n",
       "if (outputEl) {{\n",
       "    x.observe(outputEl, {childList: true});\n",
       "}}\n",
       "\n",
       "                        })                };                });            </script>        </div>"
      ]
     },
     "metadata": {},
     "output_type": "display_data"
    }
   ],
   "source": [
    "fig = go.Figure()\n",
    "for k, _ in enumerate(p_orders):\n",
    "    fig.add_trace(\n",
    "        go.Scatter(x=x_range, y=y_minkowski[k], mode=\"lines\", name=f\"Minkowski {_}\")\n",
    "    )\n",
    "    fig.add_trace(\n",
    "        go.Scatter(\n",
    "            x=x_range,\n",
    "            y=y_sumofpower[k],\n",
    "            mode=\"lines\",\n",
    "            line=dict(dash=\"dash\"),\n",
    "            name=f\"Sum of Power {_}\",\n",
    "        )\n",
    "    )\n",
    "fig.update_yaxes(range=[0, 2.5])\n",
    "fig.show()"
   ]
  },
  {
   "cell_type": "markdown",
   "metadata": {},
   "source": [
    "The figure demonstrates the distinct behaviour of the `Minkowski` distance and the `SumofPower` function. One notable difference is the effect of the `1/p` exponent in the `Minkowski` distance, which has a linearising impact on the response. This linearisation can enhance the robustness of certain optimisation algorithms, potentially making them less sensitive to outliers or extreme values. However, this increased robustness may come at the cost of a slower convergence rate, as the linearised response might require more iterations to reach the optimal solution. In contrast, the `SumofPower` function does not exhibit this linearising effect, which can lead to faster convergence in some cases but may be more susceptible to the influence of outliers or extreme values.\n",
    "\n",
    "In this notebook, we've shown the different fitting cost functions offered in PyBOP. Selection between these functions can affect the optimisation result in the case that the optimiser hyperparameter values are not properly calibrated. "
   ]
  }
 ],
 "metadata": {
  "kernelspec": {
   "display_name": "pybop-3.12",
   "language": "python",
   "name": "python3"
  },
  "language_info": {
   "codemirror_mode": {
    "name": "ipython",
    "version": 3
   },
   "file_extension": ".py",
   "mimetype": "text/x-python",
   "name": "python",
   "nbconvert_exporter": "python",
   "pygments_lexer": "ipython3",
   "version": "3.12.4"
  }
 },
 "nbformat": 4,
 "nbformat_minor": 2
}
